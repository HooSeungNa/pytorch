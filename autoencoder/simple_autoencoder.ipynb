{
 "cells": [
  {
   "cell_type": "code",
   "execution_count": 1,
   "metadata": {},
   "outputs": [],
   "source": [
    "import torch \n",
    "import torch.nn as nn\n",
    "import torchvision\n",
    "import torchvision.transforms as transforms\n"
   ]
  },
  {
   "cell_type": "code",
   "execution_count": 2,
   "metadata": {},
   "outputs": [
    {
     "name": "stdout",
     "output_type": "stream",
     "text": [
      "cuda:0\n"
     ]
    }
   ],
   "source": [
    "device = torch.device('cuda:0' if torch.cuda.is_available() else 'cpu')\n",
    "print(device)\n",
    "batch_size=100"
   ]
  },
  {
   "cell_type": "code",
   "execution_count": 3,
   "metadata": {},
   "outputs": [],
   "source": [
    "learning_rate=1e-3\n",
    "epochs=100\n",
    "# MNIST dataset (images and labels)\n",
    "train_dataset = torchvision.datasets.MNIST(root='../../data', \n",
    "                                           train=True, \n",
    "                                           transform=transforms.ToTensor(),\n",
    "                                           download=True)\n",
    "\n",
    "test_dataset = torchvision.datasets.MNIST(root='../../data', \n",
    "                                          train=False, \n",
    "                                          transform=transforms.ToTensor())\n",
    "\n",
    "# Data loader (input pipeline)\n",
    "train_loader = torch.utils.data.DataLoader(dataset=train_dataset, \n",
    "                                           batch_size=batch_size, \n",
    "                                           shuffle=True)\n",
    "\n",
    "test_loader = torch.utils.data.DataLoader(dataset=test_dataset, \n",
    "                                          batch_size=batch_size, \n",
    "                                          shuffle=False)"
   ]
  },
  {
   "cell_type": "code",
   "execution_count": 4,
   "metadata": {},
   "outputs": [
    {
     "name": "stdout",
     "output_type": "stream",
     "text": [
      "96\n"
     ]
    }
   ],
   "source": [
    "print(len(train_dataset)%128)"
   ]
  },
  {
   "cell_type": "code",
   "execution_count": 5,
   "metadata": {},
   "outputs": [],
   "source": [
    "class ae(nn.Module):\n",
    "    def __init__(self):\n",
    "        super(ae,self).__init__()\n",
    "        self.layer1=nn.Sequential(\n",
    "            nn.Linear(784,200),\n",
    "            nn.Sigmoid()\n",
    "        )\n",
    "        self.layer2=nn.Sequential(\n",
    "            nn.Linear(200,784),\n",
    "            nn.Sigmoid()\n",
    "        )\n",
    "    def forward(self,x):\n",
    "        x=x.view(batch_size,-1)\n",
    "        out=self.layer1(x)\n",
    "#         print(out.shape)\n",
    "        out = self.layer2(out)\n",
    "#         print(out.shape)\n",
    "        out=out.view(batch_size,-1,28,28)\n",
    "        \n",
    "        return out\n",
    "    "
   ]
  },
  {
   "cell_type": "code",
   "execution_count": 6,
   "metadata": {},
   "outputs": [],
   "source": [
    "encoder=ae().cuda()\n",
    "loss_fun=nn.MSELoss()\n",
    "optimizer=torch.optim.Adam(encoder.parameters(),lr=learning_rate)"
   ]
  },
  {
   "cell_type": "code",
   "execution_count": 7,
   "metadata": {},
   "outputs": [
    {
     "name": "stdout",
     "output_type": "stream",
     "text": [
      "\n"
     ]
    }
   ],
   "source": [
    "print()"
   ]
  },
  {
   "cell_type": "code",
   "execution_count": 8,
   "metadata": {},
   "outputs": [
    {
     "name": "stdout",
     "output_type": "stream",
     "text": [
      "--------------load saved data--------------\n",
      "epochs :  0 , loss :  tensor(1.00000e-04 *\n",
      "       8.7455, device='cuda:0')\n",
      "epochs :  10 , loss :  tensor(1.00000e-04 *\n",
      "       8.0200, device='cuda:0')\n",
      "epochs :  20 , loss :  tensor(1.00000e-04 *\n",
      "       8.1361, device='cuda:0')\n",
      "epochs :  30 , loss :  tensor(1.00000e-04 *\n",
      "       8.2253, device='cuda:0')\n",
      "epochs :  40 , loss :  tensor(1.00000e-04 *\n",
      "       8.5779, device='cuda:0')\n",
      "epochs :  50 , loss :  tensor(1.00000e-04 *\n",
      "       8.4889, device='cuda:0')\n",
      "epochs :  60 , loss :  tensor(1.00000e-04 *\n",
      "       8.6152, device='cuda:0')\n",
      "epochs :  70 , loss :  tensor(1.00000e-04 *\n",
      "       7.9721, device='cuda:0')\n",
      "epochs :  80 , loss :  tensor(1.00000e-04 *\n",
      "       7.6851, device='cuda:0')\n",
      "epochs :  90 , loss :  tensor(1.00000e-04 *\n",
      "       8.4317, device='cuda:0')\n"
     ]
    }
   ],
   "source": [
    "from torch.autograd import Variable\n",
    "import os\n",
    "if(os.path.isfile('./saved_data/model.ckpt')==True):\n",
    "    print(\"--------------load saved data--------------\")\n",
    "    encoder.load_state_dict(torch.load('./saved_data/model.ckpt'))\n",
    "for i in range(epochs):\n",
    "    for j , [image,label] in enumerate(train_loader):\n",
    "        image=Variable(image).cuda()\n",
    "#         print(image.shape)\n",
    "        optimizer.zero_grad()\n",
    "        output=encoder(image)\n",
    "        loss=loss_fun(output,image)\n",
    "        loss.backward()\n",
    "        optimizer.step()\n",
    "    if(i%10==0):\n",
    "        print(\"epochs : \",i,\", loss : \",loss)"
   ]
  },
  {
   "cell_type": "code",
   "execution_count": 9,
   "metadata": {},
   "outputs": [
    {
     "name": "stdout",
     "output_type": "stream",
     "text": [
      "saved data\n"
     ]
    }
   ],
   "source": [
    "print(\"saved data\")\n",
    "torch.save(encoder.state_dict(), './saved_data/model.ckpt')"
   ]
  },
  {
   "cell_type": "code",
   "execution_count": 10,
   "metadata": {},
   "outputs": [],
   "source": [
    "\n",
    "\n",
    "input_image=image[0].cpu()\n",
    "output_image=output[0].cpu()\n",
    "input_image=input_image.data.numpy()\n",
    "output_image=output_image.data.numpy()\n"
   ]
  },
  {
   "cell_type": "code",
   "execution_count": 11,
   "metadata": {},
   "outputs": [
    {
     "name": "stdout",
     "output_type": "stream",
     "text": [
      "(1, 28, 28)\n"
     ]
    }
   ],
   "source": [
    "print(input_image.shape)"
   ]
  },
  {
   "cell_type": "code",
   "execution_count": 12,
   "metadata": {},
   "outputs": [
    {
     "data": {
      "image/png": "[encoded data removed]",
      "text/plain": [
       "<matplotlib.figure.Figure at 0x15229ed9978>"
      ]
     },
     "metadata": {},
     "output_type": "display_data"
    },
    {
     "data": {
      "image/png": "[encoded data removed]",
      "text/plain": [
       "<matplotlib.figure.Figure at 0x1523762ae48>"
      ]
     },
     "metadata": {},
     "output_type": "display_data"
    }
   ],
   "source": [
    "import matplotlib.pyplot as plt\n",
    "%matplotlib inline\n",
    "plt.imshow(input_image[0],cmap='gray')\n",
    "plt.show()\n",
    "plt.imshow(output_image[0],cmap='gray')\n",
    "plt.show()\n"
   ]
  },
  {
   "cell_type": "code",
   "execution_count": null,
   "metadata": {},
   "outputs": [],
   "source": []
  }
 ],
 "metadata": {
  "kernelspec": {
   "display_name": "Python 3",
   "language": "python",
   "name": "python3"
  },
  "language_info": {
   "codemirror_mode": {
    "name": "ipython",
    "version": 3
   },
   "file_extension": ".py",
   "mimetype": "text/x-python",
   "name": "python",
   "nbconvert_exporter": "python",
   "pygments_lexer": "ipython3",
   "version": "3.6.4"
  }
 },
 "nbformat": 4,
 "nbformat_minor": 2
}
