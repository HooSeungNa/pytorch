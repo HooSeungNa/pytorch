{
 "cells": [
  {
   "cell_type": "code",
   "execution_count": 10,
   "metadata": {},
   "outputs": [],
   "source": [
    "import torch \n",
    "import torch.nn as nn\n",
    "import torchvision\n",
    "import torchvision.transforms as transforms\n",
    "from torch.autograd import Variable\n",
    "import os\n",
    "import matplotlib.pyplot as plt\n",
    "%matplotlib inline"
   ]
  },
  {
   "cell_type": "code",
   "execution_count": 2,
   "metadata": {},
   "outputs": [
    {
     "name": "stdout",
     "output_type": "stream",
     "text": [
      "cuda:0\n"
     ]
    }
   ],
   "source": [
    "device = torch.device('cuda:0' if torch.cuda.is_available() else 'cpu')\n",
    "print(device)\n",
    "batch_size=100"
   ]
  },
  {
   "cell_type": "code",
   "execution_count": 3,
   "metadata": {},
   "outputs": [],
   "source": [
    "learning_rate=1e-3\n",
    "epochs=100\n",
    "# MNIST dataset (images and labels)\n",
    "train_dataset = torchvision.datasets.MNIST(root='../../data', \n",
    "                                           train=True, \n",
    "                                           transform=transforms.ToTensor(),\n",
    "                                           download=True)\n",
    "\n",
    "test_dataset = torchvision.datasets.MNIST(root='../../data', \n",
    "                                          train=False, \n",
    "                                          transform=transforms.ToTensor())\n",
    "\n",
    "# Data loader (input pipeline)\n",
    "train_loader = torch.utils.data.DataLoader(dataset=train_dataset, \n",
    "                                           batch_size=batch_size, \n",
    "                                           shuffle=True)\n",
    "\n",
    "test_loader = torch.utils.data.DataLoader(dataset=test_dataset, \n",
    "                                          batch_size=batch_size, \n",
    "                                          shuffle=False)"
   ]
  },
  {
   "cell_type": "code",
   "execution_count": 4,
   "metadata": {},
   "outputs": [
    {
     "name": "stdout",
     "output_type": "stream",
     "text": [
      "96\n"
     ]
    }
   ],
   "source": [
    "print(len(train_dataset)%128)"
   ]
  },
  {
   "cell_type": "code",
   "execution_count": 5,
   "metadata": {},
   "outputs": [],
   "source": [
    "class ae(nn.Module):\n",
    "    def __init__(self):\n",
    "        super(ae,self).__init__()\n",
    "        self.layer1=nn.Sequential(\n",
    "            nn.Linear(784,200),\n",
    "            nn.Sigmoid()\n",
    "        )\n",
    "        self.layer2=nn.Sequential(\n",
    "            nn.Linear(200,784),\n",
    "            nn.Sigmoid()\n",
    "        )\n",
    "    def forward(self,x):\n",
    "        x=x.view(batch_size,-1)\n",
    "        out=self.layer1(x)\n",
    "#         print(out.shape)\n",
    "        out = self.layer2(out)\n",
    "#         print(out.shape)\n",
    "        out=out.view(batch_size,-1,28,28)\n",
    "        \n",
    "        return out\n",
    "    "
   ]
  },
  {
   "cell_type": "code",
   "execution_count": 6,
   "metadata": {},
   "outputs": [],
   "source": [
    "encoder=ae().cuda()\n",
    "loss_fun=nn.MSELoss()\n",
    "optimizer=torch.optim.Adam(encoder.parameters(),lr=learning_rate)"
   ]
  },
  {
   "cell_type": "code",
   "execution_count": 8,
   "metadata": {},
   "outputs": [
    {
     "name": "stdout",
     "output_type": "stream",
     "text": [
      "--------------load saved data--------------\n",
      "epochs :  0 , loss :  tensor(1.00000e-04 *\n",
      "       8.7455, device='cuda:0')\n",
      "epochs :  10 , loss :  tensor(1.00000e-04 *\n",
      "       8.0200, device='cuda:0')\n",
      "epochs :  20 , loss :  tensor(1.00000e-04 *\n",
      "       8.1361, device='cuda:0')\n",
      "epochs :  30 , loss :  tensor(1.00000e-04 *\n",
      "       8.2253, device='cuda:0')\n",
      "epochs :  40 , loss :  tensor(1.00000e-04 *\n",
      "       8.5779, device='cuda:0')\n",
      "epochs :  50 , loss :  tensor(1.00000e-04 *\n",
      "       8.4889, device='cuda:0')\n",
      "epochs :  60 , loss :  tensor(1.00000e-04 *\n",
      "       8.6152, device='cuda:0')\n",
      "epochs :  70 , loss :  tensor(1.00000e-04 *\n",
      "       7.9721, device='cuda:0')\n",
      "epochs :  80 , loss :  tensor(1.00000e-04 *\n",
      "       7.6851, device='cuda:0')\n",
      "epochs :  90 , loss :  tensor(1.00000e-04 *\n",
      "       8.4317, device='cuda:0')\n"
     ]
    }
   ],
   "source": [
    "#trainging phase\n",
    "if(os.path.isfile('./saved_data/model.ckpt')==True):\n",
    "    print(\"--------------load saved data--------------\")\n",
    "    encoder.load_state_dict(torch.load('./saved_data/model.ckpt'))\n",
    "for i in range(epochs):\n",
    "    for j , [image,label] in enumerate(train_loader):\n",
    "        image=Variable(image).cuda()\n",
    "#         print(image.shape)\n",
    "        optimizer.zero_grad()\n",
    "        output=encoder(image)\n",
    "        loss=loss_fun(output,image)\n",
    "        loss.backward()\n",
    "        optimizer.step()\n",
    "    if(i%10==0):\n",
    "        print(\"epochs : \",i,\", loss : \",loss)"
   ]
  },
  {
   "cell_type": "code",
   "execution_count": 9,
   "metadata": {},
   "outputs": [
    {
     "name": "stdout",
     "output_type": "stream",
     "text": [
      "saved data\n"
     ]
    }
   ],
   "source": [
    "print(\"saved data\")\n",
    "torch.save(encoder.state_dict(), './saved_data/model.ckpt')"
   ]
  },
  {
   "cell_type": "code",
   "execution_count": 10,
   "metadata": {},
   "outputs": [],
   "source": [
    "input_image=image[0].cpu()\n",
    "output_image=output[0].cpu()\n",
    "input_image=input_image.data.numpy()\n",
    "output_image=output_image.data.numpy()\n"
   ]
  },
  {
   "cell_type": "code",
   "execution_count": null,
   "metadata": {},
   "outputs": [],
   "source": [
    "\n",
    "plt.imshow(input_image[0],cmap='gray')\n",
    "plt.show()\n",
    "plt.imshow(output_image[0],cmap='gray')\n",
    "plt.show()\n"
   ]
  },
  {
   "cell_type": "code",
   "execution_count": 7,
   "metadata": {},
   "outputs": [
    {
     "name": "stdout",
     "output_type": "stream",
     "text": [
      "loss :  tensor(1.00000e-04 *\n",
      "       8.6750, device='cuda:0')\n",
      "loss :  tensor(1.00000e-04 *\n",
      "       8.6979, device='cuda:0')\n",
      "loss :  tensor(1.00000e-04 *\n",
      "       8.2411, device='cuda:0')\n",
      "loss :  tensor(1.00000e-04 *\n",
      "       8.9708, device='cuda:0')\n",
      "loss :  tensor(1.00000e-03 *\n",
      "       1.0047, device='cuda:0')\n",
      "loss :  tensor(1.00000e-04 *\n",
      "       9.4399, device='cuda:0')\n",
      "loss :  tensor(1.00000e-04 *\n",
      "       9.0938, device='cuda:0')\n",
      "loss :  tensor(1.00000e-04 *\n",
      "       8.5286, device='cuda:0')\n",
      "loss :  tensor(1.00000e-04 *\n",
      "       9.3882, device='cuda:0')\n",
      "loss :  tensor(1.00000e-04 *\n",
      "       8.9735, device='cuda:0')\n",
      "loss :  tensor(1.00000e-04 *\n",
      "       8.8850, device='cuda:0')\n",
      "loss :  tensor(1.00000e-04 *\n",
      "       9.3148, device='cuda:0')\n",
      "loss :  tensor(1.00000e-04 *\n",
      "       9.2724, device='cuda:0')\n",
      "loss :  tensor(1.00000e-04 *\n",
      "       9.5219, device='cuda:0')\n",
      "loss :  tensor(1.00000e-04 *\n",
      "       9.4456, device='cuda:0')\n",
      "loss :  tensor(1.00000e-04 *\n",
      "       9.0553, device='cuda:0')\n",
      "loss :  tensor(1.00000e-04 *\n",
      "       9.3410, device='cuda:0')\n",
      "loss :  tensor(1.00000e-04 *\n",
      "       9.3239, device='cuda:0')\n",
      "loss :  tensor(1.00000e-04 *\n",
      "       9.0175, device='cuda:0')\n",
      "loss :  tensor(1.00000e-04 *\n",
      "       9.1493, device='cuda:0')\n",
      "loss :  tensor(1.00000e-04 *\n",
      "       9.6102, device='cuda:0')\n",
      "loss :  tensor(1.00000e-04 *\n",
      "       9.6747, device='cuda:0')\n",
      "loss :  tensor(1.00000e-04 *\n",
      "       9.4872, device='cuda:0')\n",
      "loss :  tensor(1.00000e-04 *\n",
      "       9.5964, device='cuda:0')\n",
      "loss :  tensor(1.00000e-04 *\n",
      "       9.3121, device='cuda:0')\n",
      "loss :  tensor(1.00000e-04 *\n",
      "       8.4207, device='cuda:0')\n",
      "loss :  tensor(1.00000e-04 *\n",
      "       9.0866, device='cuda:0')\n",
      "loss :  tensor(1.00000e-04 *\n",
      "       9.1744, device='cuda:0')\n",
      "loss :  tensor(1.00000e-04 *\n",
      "       9.9853, device='cuda:0')\n",
      "loss :  tensor(1.00000e-04 *\n",
      "       8.9320, device='cuda:0')\n",
      "loss :  tensor(1.00000e-04 *\n",
      "       8.9477, device='cuda:0')\n",
      "loss :  tensor(1.00000e-04 *\n",
      "       8.8308, device='cuda:0')\n",
      "loss :  tensor(1.00000e-04 *\n",
      "       9.2464, device='cuda:0')\n",
      "loss :  tensor(1.00000e-04 *\n",
      "       9.6231, device='cuda:0')\n",
      "loss :  tensor(1.00000e-04 *\n",
      "       8.1930, device='cuda:0')\n",
      "loss :  tensor(1.00000e-04 *\n",
      "       9.3930, device='cuda:0')\n",
      "loss :  tensor(1.00000e-04 *\n",
      "       8.6988, device='cuda:0')\n",
      "loss :  tensor(1.00000e-04 *\n",
      "       9.6674, device='cuda:0')\n",
      "loss :  tensor(1.00000e-03 *\n",
      "       1.0410, device='cuda:0')\n",
      "loss :  tensor(1.00000e-04 *\n",
      "       9.1833, device='cuda:0')\n",
      "loss :  tensor(1.00000e-04 *\n",
      "       9.1559, device='cuda:0')\n",
      "loss :  tensor(1.00000e-04 *\n",
      "       8.8455, device='cuda:0')\n",
      "loss :  tensor(1.00000e-04 *\n",
      "       9.8524, device='cuda:0')\n",
      "loss :  tensor(1.00000e-04 *\n",
      "       8.5690, device='cuda:0')\n",
      "loss :  tensor(1.00000e-04 *\n",
      "       8.9842, device='cuda:0')\n",
      "loss :  tensor(1.00000e-04 *\n",
      "       8.9323, device='cuda:0')\n",
      "loss :  tensor(1.00000e-04 *\n",
      "       8.9198, device='cuda:0')\n",
      "loss :  tensor(1.00000e-04 *\n",
      "       8.5890, device='cuda:0')\n",
      "loss :  tensor(1.00000e-04 *\n",
      "       9.3079, device='cuda:0')\n",
      "loss :  tensor(1.00000e-04 *\n",
      "       8.5510, device='cuda:0')\n",
      "loss :  tensor(1.00000e-04 *\n",
      "       7.6774, device='cuda:0')\n",
      "loss :  tensor(1.00000e-04 *\n",
      "       8.4830, device='cuda:0')\n",
      "loss :  tensor(1.00000e-04 *\n",
      "       8.4407, device='cuda:0')\n",
      "loss :  tensor(1.00000e-04 *\n",
      "       6.9313, device='cuda:0')\n",
      "loss :  tensor(1.00000e-04 *\n",
      "       9.7465, device='cuda:0')\n",
      "loss :  tensor(1.00000e-04 *\n",
      "       7.9664, device='cuda:0')\n",
      "loss :  tensor(1.00000e-04 *\n",
      "       8.5745, device='cuda:0')\n",
      "loss :  tensor(1.00000e-03 *\n",
      "       1.0768, device='cuda:0')\n",
      "loss :  tensor(1.00000e-04 *\n",
      "       9.6985, device='cuda:0')\n",
      "loss :  tensor(1.00000e-04 *\n",
      "       8.9957, device='cuda:0')\n",
      "loss :  tensor(1.00000e-04 *\n",
      "       9.1954, device='cuda:0')\n",
      "loss :  tensor(1.00000e-04 *\n",
      "       8.8806, device='cuda:0')\n",
      "loss :  tensor(1.00000e-04 *\n",
      "       7.7751, device='cuda:0')\n",
      "loss :  tensor(1.00000e-04 *\n",
      "       9.1812, device='cuda:0')\n",
      "loss :  tensor(1.00000e-04 *\n",
      "       8.2281, device='cuda:0')\n",
      "loss :  tensor(1.00000e-03 *\n",
      "       1.3830, device='cuda:0')\n",
      "loss :  tensor(1.00000e-03 *\n",
      "       1.0581, device='cuda:0')\n",
      "loss :  tensor(1.00000e-03 *\n",
      "       1.0248, device='cuda:0')\n",
      "loss :  tensor(1.00000e-04 *\n",
      "       7.7219, device='cuda:0')\n",
      "loss :  tensor(1.00000e-04 *\n",
      "       7.2953, device='cuda:0')\n",
      "loss :  tensor(1.00000e-04 *\n",
      "       7.3849, device='cuda:0')\n",
      "loss :  tensor(1.00000e-04 *\n",
      "       8.1310, device='cuda:0')\n",
      "loss :  tensor(1.00000e-04 *\n",
      "       8.5787, device='cuda:0')\n",
      "loss :  tensor(1.00000e-04 *\n",
      "       6.5396, device='cuda:0')\n",
      "loss :  tensor(1.00000e-04 *\n",
      "       9.5347, device='cuda:0')\n",
      "loss :  tensor(1.00000e-04 *\n",
      "       8.0777, device='cuda:0')\n",
      "loss :  tensor(1.00000e-04 *\n",
      "       7.8872, device='cuda:0')\n",
      "loss :  tensor(1.00000e-04 *\n",
      "       8.7253, device='cuda:0')\n",
      "loss :  tensor(1.00000e-04 *\n",
      "       8.0597, device='cuda:0')\n",
      "loss :  tensor(1.00000e-04 *\n",
      "       8.0482, device='cuda:0')\n",
      "loss :  tensor(1.00000e-04 *\n",
      "       7.9910, device='cuda:0')\n",
      "loss :  tensor(1.00000e-03 *\n",
      "       1.0119, device='cuda:0')\n",
      "loss :  tensor(1.00000e-03 *\n",
      "       1.0870, device='cuda:0')\n",
      "loss :  tensor(1.00000e-03 *\n",
      "       1.0704, device='cuda:0')\n",
      "loss :  tensor(1.00000e-04 *\n",
      "       9.1751, device='cuda:0')\n",
      "loss :  tensor(1.00000e-04 *\n",
      "       9.8019, device='cuda:0')\n",
      "loss :  tensor(1.00000e-04 *\n",
      "       8.0409, device='cuda:0')\n",
      "loss :  tensor(1.00000e-04 *\n",
      "       6.5534, device='cuda:0')\n",
      "loss :  tensor(1.00000e-04 *\n",
      "       7.1908, device='cuda:0')\n",
      "loss :  tensor(1.00000e-04 *\n",
      "       8.5082, device='cuda:0')\n",
      "loss :  tensor(1.00000e-03 *\n",
      "       1.0478, device='cuda:0')\n",
      "loss :  tensor(1.00000e-04 *\n",
      "       8.6748, device='cuda:0')\n",
      "loss :  tensor(1.00000e-04 *\n",
      "       8.3902, device='cuda:0')\n",
      "loss :  tensor(1.00000e-04 *\n",
      "       8.2863, device='cuda:0')\n",
      "loss :  tensor(1.00000e-04 *\n",
      "       9.2303, device='cuda:0')\n",
      "loss :  tensor(1.00000e-04 *\n",
      "       9.2657, device='cuda:0')\n",
      "loss :  tensor(1.00000e-03 *\n",
      "       1.2132, device='cuda:0')\n",
      "loss :  tensor(1.00000e-04 *\n",
      "       9.5085, device='cuda:0')\n",
      "loss :  tensor(1.00000e-04 *\n",
      "       6.3715, device='cuda:0')\n",
      "loss :  tensor(1.00000e-04 *\n",
      "       8.7806, device='cuda:0')\n"
     ]
    }
   ],
   "source": [
    "#test phase\n",
    "\n",
    "encoder.load_state_dict(torch.load('./saved_data/model.ckpt'))\n",
    "for i ,[t_image,t_label]in enumerate(test_loader):\n",
    "    t_image=Variable(t_image).cuda()\n",
    "    t_out=encoder(t_image)\n",
    "    loss=loss_fun(t_out,t_image)\n",
    "    print(\"loss : \",loss)"
   ]
  },
  {
   "cell_type": "code",
   "execution_count": 8,
   "metadata": {},
   "outputs": [
    {
     "name": "stdout",
     "output_type": "stream",
     "text": [
      "torch.Size([100, 1, 28, 28]) torch.Size([100, 1, 28, 28])\n"
     ]
    }
   ],
   "source": [
    "print(t_image.shape,t_out.shape)"
   ]
  },
  {
   "cell_type": "code",
   "execution_count": 13,
   "metadata": {},
   "outputs": [
    {
     "data": {
      "image/png": "[encoded data removed]",
      "text/plain": [
       "<matplotlib.figure.Figure at 0x280cfead9b0>"
      ]
     },
     "metadata": {},
     "output_type": "display_data"
    },
    {
     "data": {
      "image/png": "[encoded data removed]",
      "text/plain": [
       "<matplotlib.figure.Figure at 0x280cfde3668>"
      ]
     },
     "metadata": {},
     "output_type": "display_data"
    },
    {
     "data": {
      "image/png": "[encoded data removed]",
      "text/plain": [
       "<matplotlib.figure.Figure at 0x280cfe8efd0>"
      ]
     },
     "metadata": {},
     "output_type": "display_data"
    },
    {
     "data": {
      "image/png": "[encoded data removed]",
      "text/plain": [
       "<matplotlib.figure.Figure at 0x280cfe2e438>"
      ]
     },
     "metadata": {},
     "output_type": "display_data"
    },
    {
     "data": {
      "image/png": "[encoded data removed]",
      "text/plain": [
       "<matplotlib.figure.Figure at 0x280eaa9ae48>"
      ]
     },
     "metadata": {},
     "output_type": "display_data"
    },
    {
     "data": {
      "image/png": "[encoded data removed]",
      "text/plain": [
       "<matplotlib.figure.Figure at 0x280eaaa1198>"
      ]
     },
     "metadata": {},
     "output_type": "display_data"
    },
    {
     "data": {
      "image/png": "[encoded data removed]",
      "text/plain": [
       "<matplotlib.figure.Figure at 0x280cfefd390>"
      ]
     },
     "metadata": {},
     "output_type": "display_data"
    },
    {
     "data": {
      "image/png": "[encoded data removed]",
      "text/plain": [
       "<matplotlib.figure.Figure at 0x280eaa53588>"
      ]
     },
     "metadata": {},
     "output_type": "display_data"
    },
    {
     "data": {
      "image/png": "[encoded data removed]",
      "text/plain": [
       "<matplotlib.figure.Figure at 0x280cfeba7f0>"
      ]
     },
     "metadata": {},
     "output_type": "display_data"
    },
    {
     "data": {
      "image/png": "[encoded data removed]",
      "text/plain": [
       "<matplotlib.figure.Figure at 0x280cfeb97b8>"
      ]
     },
     "metadata": {},
     "output_type": "display_data"
    },
    {
     "data": {
      "image/png": "[encoded data removed]",
      "text/plain": [
       "<matplotlib.figure.Figure at 0x280cfdcd160>"
      ]
     },
     "metadata": {},
     "output_type": "display_data"
    },
    {
     "data": {
      "image/png": "[encoded data removed]",
      "text/plain": [
       "<matplotlib.figure.Figure at 0x280cfe13a58>"
      ]
     },
     "metadata": {},
     "output_type": "display_data"
    },
    {
     "data": {
      "image/png": "[encoded data removed]",
      "text/plain": [
       "<matplotlib.figure.Figure at 0x280cfdd4470>"
      ]
     },
     "metadata": {},
     "output_type": "display_data"
    },
    {
     "data": {
      "image/png": "[encoded data removed]",
      "text/plain": [
       "<matplotlib.figure.Figure at 0x280eaa01d68>"
      ]
     },
     "metadata": {},
     "output_type": "display_data"
    },
    {
     "data": {
      "image/png": "[encoded data removed]",
      "text/plain": [
       "<matplotlib.figure.Figure at 0x280cfe6b4e0>"
      ]
     },
     "metadata": {},
     "output_type": "display_data"
    },
    {
     "data": {
      "image/png": "[encoded data removed]",
      "text/plain": [
       "<matplotlib.figure.Figure at 0x280cff58f28>"
      ]
     },
     "metadata": {},
     "output_type": "display_data"
    },
    {
     "data": {
      "image/png": "[encoded data removed]",
      "text/plain": [
       "<matplotlib.figure.Figure at 0x280eaa08f28>"
      ]
     },
     "metadata": {},
     "output_type": "display_data"
    },
    {
     "data": {
      "image/png": "[encoded data removed]",
      "text/plain": [
       "<matplotlib.figure.Figure at 0x280d0030438>"
      ]
     },
     "metadata": {},
     "output_type": "display_data"
    },
    {
     "data": {
      "image/png": "[encoded data removed]",
      "text/plain": [
       "<matplotlib.figure.Figure at 0x280ea98de48>"
      ]
     },
     "metadata": {},
     "output_type": "display_data"
    },
    {
     "data": {
      "image/png": "[encoded data removed]",
      "text/plain": [
       "<matplotlib.figure.Figure at 0x280ea974f60>"
      ]
     },
     "metadata": {},
     "output_type": "display_data"
    }
   ],
   "source": [
    "for i in range(10):\n",
    "    input_image=t_image[i].cpu()\n",
    "    output_image=t_out[i].cpu()\n",
    "    input_image=input_image.data.numpy()\n",
    "    output_image=output_image.data.numpy()\n",
    "    plt.imshow(input_image[0],cmap='gray')\n",
    "    plt.show()\n",
    "    plt.imshow(output_image[0],cmap='gray')\n",
    "    plt.show()\n"
   ]
  },
  {
   "cell_type": "code",
   "execution_count": null,
   "metadata": {},
   "outputs": [],
   "source": []
  }
 ],
 "metadata": {
  "kernelspec": {
   "display_name": "Python 3",
   "language": "python",
   "name": "python3"
  },
  "language_info": {
   "codemirror_mode": {
    "name": "ipython",
    "version": 3
   },
   "file_extension": ".py",
   "mimetype": "text/x-python",
   "name": "python",
   "nbconvert_exporter": "python",
   "pygments_lexer": "ipython3",
   "version": "3.6.4"
  }
 },
 "nbformat": 4,
 "nbformat_minor": 2
}
