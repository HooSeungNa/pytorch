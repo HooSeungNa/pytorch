{
 "cells": [
  {
   "cell_type": "code",
   "execution_count": 3,
   "metadata": {},
   "outputs": [],
   "source": [
    "import torch \n",
    "import torch.nn as nn\n",
    "import torchvision\n",
    "import torchvision.transforms as transforms\n",
    "from torch.autograd import Variable\n",
    "import os\n",
    "import matplotlib.pyplot as plt\n",
    "%matplotlib inline"
   ]
  },
  {
   "cell_type": "code",
   "execution_count": 4,
   "metadata": {},
   "outputs": [
    {
     "name": "stdout",
     "output_type": "stream",
     "text": [
      "cuda:0\n"
     ]
    }
   ],
   "source": [
    "device = torch.device('cuda:0' if torch.cuda.is_available() else 'cpu')\n",
    "print(device)\n",
    "batch_size=100\n",
    "\n",
    "learning_rate=1e-3\n",
    "epochs=100\n",
    "\n",
    "# MNIST dataset (images and labels)\n",
    "train_dataset = torchvision.datasets.MNIST(root='./data', \n",
    "                                           train=True, \n",
    "                                           transform=transforms.ToTensor(),\n",
    "                                           download=True)\n",
    "\n",
    "test_dataset = torchvision.datasets.MNIST(root='./data', \n",
    "                                          train=False, \n",
    "                                          transform=transforms.ToTensor())\n",
    "\n",
    "# Data loader (input pipeline)\n",
    "train_loader = torch.utils.data.DataLoader(dataset=train_dataset, \n",
    "                                           batch_size=batch_size, \n",
    "                                           shuffle=True)\n",
    "\n",
    "test_loader = torch.utils.data.DataLoader(dataset=test_dataset, \n",
    "                                          batch_size=batch_size, \n",
    "                                          shuffle=False)"
   ]
  },
  {
   "cell_type": "code",
   "execution_count": 13,
   "metadata": {},
   "outputs": [],
   "source": [
    "class Sparse_autoencoder(nn.Module):\n",
    "    def __init__(self):\n",
    "        super(Sparse_autoencoder,self).__init__()\n",
    "        self.layer1=nn.Sequential(\n",
    "            nn.Linear(28*28,28*28*3),\n",
    "            nn.Sigmoid()\n",
    "        )\n",
    "        self.layer2=nn.Sequential(\n",
    "            nn.Linear(28*28*3,28*28),\n",
    "            nn.Sigmoid()\n",
    "        )\n",
    "    def forward(self,x):\n",
    "        x=x.view(batch_size,-1)\n",
    "        out=self.layer1(x)\n",
    "        out=self.layer2(out)\n",
    "        out=out.view(batch_size,-1,28,28)\n",
    "        return out"
   ]
  },
  {
   "cell_type": "code",
   "execution_count": 14,
   "metadata": {},
   "outputs": [],
   "source": [
    "encoder=Sparse_autoencoder().cuda()\n",
    "loss_fun=nn.MSELoss()\n",
    "optimizer=torch.optim.Adam(encoder.parameters(),lr=learning_rate)"
   ]
  },
  {
   "cell_type": "code",
   "execution_count": 15,
   "metadata": {},
   "outputs": [
    {
     "name": "stdout",
     "output_type": "stream",
     "text": [
      "epochs :  0 , loss :  tensor(1.00000e-03 *\n",
      "       6.7378, device='cuda:0')\n",
      "epochs :  10 , loss :  tensor(1.00000e-04 *\n",
      "       8.0968, device='cuda:0')\n",
      "epochs :  20 , loss :  tensor(1.00000e-04 *\n",
      "       6.0832, device='cuda:0')\n",
      "epochs :  30 , loss :  tensor(1.00000e-04 *\n",
      "       5.8750, device='cuda:0')\n",
      "epochs :  40 , loss :  tensor(1.00000e-04 *\n",
      "       5.2940, device='cuda:0')\n",
      "epochs :  50 , loss :  tensor(1.00000e-04 *\n",
      "       4.6675, device='cuda:0')\n",
      "epochs :  60 , loss :  tensor(1.00000e-04 *\n",
      "       4.3321, device='cuda:0')\n",
      "epochs :  70 , loss :  tensor(1.00000e-04 *\n",
      "       4.2508, device='cuda:0')\n",
      "epochs :  80 , loss :  tensor(1.00000e-04 *\n",
      "       4.1079, device='cuda:0')\n",
      "epochs :  90 , loss :  tensor(1.00000e-04 *\n",
      "       3.9748, device='cuda:0')\n"
     ]
    }
   ],
   "source": [
    "#trainging phase\n",
    "if(os.path.isfile('./saved_data/sparse_autoencoer_model.ckpt')==True):\n",
    "    print(\"--------------load saved data--------------\")\n",
    "    encoder.load_state_dict(torch.load('./saved_data/sparse_autoencoer_model.ckpt'))\n",
    "for i in range(epochs):\n",
    "    for j , [image,label] in enumerate(train_loader):\n",
    "        image=Variable(image).cuda()\n",
    "#         print(image.shape)\n",
    "        optimizer.zero_grad()\n",
    "        output=encoder(image)\n",
    "        loss=loss_fun(output,image)\n",
    "        loss.backward()\n",
    "        optimizer.step()\n",
    "    if(i%10==0):\n",
    "        print(\"epochs : \",i,\", loss : \",loss)"
   ]
  },
  {
   "cell_type": "code",
   "execution_count": 16,
   "metadata": {},
   "outputs": [
    {
     "name": "stdout",
     "output_type": "stream",
     "text": [
      "saved data\n"
     ]
    }
   ],
   "source": [
    "print(\"saved data\")\n",
    "torch.save(encoder.state_dict(), './saved_data/sparse_autoencoer_model.ckpt')"
   ]
  },
  {
   "cell_type": "code",
   "execution_count": 17,
   "metadata": {},
   "outputs": [
    {
     "name": "stdout",
     "output_type": "stream",
     "text": [
      "loss :  tensor(1.00000e-04 *\n",
      "       4.9967, device='cuda:0')\n",
      "loss :  tensor(1.00000e-04 *\n",
      "       4.9452, device='cuda:0')\n",
      "loss :  tensor(1.00000e-04 *\n",
      "       4.9801, device='cuda:0')\n",
      "loss :  tensor(1.00000e-04 *\n",
      "       4.9161, device='cuda:0')\n",
      "loss :  tensor(1.00000e-04 *\n",
      "       5.6719, device='cuda:0')\n",
      "loss :  tensor(1.00000e-04 *\n",
      "       5.1173, device='cuda:0')\n",
      "loss :  tensor(1.00000e-04 *\n",
      "       5.3705, device='cuda:0')\n",
      "loss :  tensor(1.00000e-04 *\n",
      "       4.7329, device='cuda:0')\n",
      "loss :  tensor(1.00000e-04 *\n",
      "       5.1466, device='cuda:0')\n",
      "loss :  tensor(1.00000e-04 *\n",
      "       4.9970, device='cuda:0')\n",
      "loss :  tensor(1.00000e-04 *\n",
      "       4.9435, device='cuda:0')\n",
      "loss :  tensor(1.00000e-04 *\n",
      "       5.3896, device='cuda:0')\n",
      "loss :  tensor(1.00000e-04 *\n",
      "       5.3502, device='cuda:0')\n",
      "loss :  tensor(1.00000e-04 *\n",
      "       5.3380, device='cuda:0')\n",
      "loss :  tensor(1.00000e-04 *\n",
      "       5.4176, device='cuda:0')\n",
      "loss :  tensor(1.00000e-04 *\n",
      "       5.0933, device='cuda:0')\n",
      "loss :  tensor(1.00000e-04 *\n",
      "       5.1449, device='cuda:0')\n",
      "loss :  tensor(1.00000e-04 *\n",
      "       4.9752, device='cuda:0')\n",
      "loss :  tensor(1.00000e-04 *\n",
      "       5.1339, device='cuda:0')\n",
      "loss :  tensor(1.00000e-04 *\n",
      "       5.1529, device='cuda:0')\n",
      "loss :  tensor(1.00000e-04 *\n",
      "       5.1843, device='cuda:0')\n",
      "loss :  tensor(1.00000e-04 *\n",
      "       5.3115, device='cuda:0')\n",
      "loss :  tensor(1.00000e-04 *\n",
      "       5.1260, device='cuda:0')\n",
      "loss :  tensor(1.00000e-04 *\n",
      "       5.3779, device='cuda:0')\n",
      "loss :  tensor(1.00000e-04 *\n",
      "       5.1162, device='cuda:0')\n",
      "loss :  tensor(1.00000e-04 *\n",
      "       4.8438, device='cuda:0')\n",
      "loss :  tensor(1.00000e-04 *\n",
      "       5.3896, device='cuda:0')\n",
      "loss :  tensor(1.00000e-04 *\n",
      "       5.2531, device='cuda:0')\n",
      "loss :  tensor(1.00000e-04 *\n",
      "       5.7597, device='cuda:0')\n",
      "loss :  tensor(1.00000e-04 *\n",
      "       5.0743, device='cuda:0')\n",
      "loss :  tensor(1.00000e-04 *\n",
      "       4.8707, device='cuda:0')\n",
      "loss :  tensor(1.00000e-04 *\n",
      "       5.0204, device='cuda:0')\n",
      "loss :  tensor(1.00000e-04 *\n",
      "       5.3040, device='cuda:0')\n",
      "loss :  tensor(1.00000e-04 *\n",
      "       5.2073, device='cuda:0')\n",
      "loss :  tensor(1.00000e-04 *\n",
      "       4.5799, device='cuda:0')\n",
      "loss :  tensor(1.00000e-04 *\n",
      "       5.1033, device='cuda:0')\n",
      "loss :  tensor(1.00000e-04 *\n",
      "       4.7191, device='cuda:0')\n",
      "loss :  tensor(1.00000e-04 *\n",
      "       5.3792, device='cuda:0')\n",
      "loss :  tensor(1.00000e-04 *\n",
      "       6.0357, device='cuda:0')\n",
      "loss :  tensor(1.00000e-04 *\n",
      "       5.1177, device='cuda:0')\n",
      "loss :  tensor(1.00000e-04 *\n",
      "       4.9504, device='cuda:0')\n",
      "loss :  tensor(1.00000e-04 *\n",
      "       4.9477, device='cuda:0')\n",
      "loss :  tensor(1.00000e-04 *\n",
      "       5.5087, device='cuda:0')\n",
      "loss :  tensor(1.00000e-04 *\n",
      "       4.9513, device='cuda:0')\n",
      "loss :  tensor(1.00000e-04 *\n",
      "       5.2263, device='cuda:0')\n",
      "loss :  tensor(1.00000e-04 *\n",
      "       5.1712, device='cuda:0')\n",
      "loss :  tensor(1.00000e-04 *\n",
      "       4.9782, device='cuda:0')\n",
      "loss :  tensor(1.00000e-04 *\n",
      "       4.7147, device='cuda:0')\n",
      "loss :  tensor(1.00000e-04 *\n",
      "       5.3465, device='cuda:0')\n",
      "loss :  tensor(1.00000e-04 *\n",
      "       4.8350, device='cuda:0')\n",
      "loss :  tensor(1.00000e-04 *\n",
      "       4.5032, device='cuda:0')\n",
      "loss :  tensor(1.00000e-04 *\n",
      "       4.9091, device='cuda:0')\n",
      "loss :  tensor(1.00000e-04 *\n",
      "       4.8092, device='cuda:0')\n",
      "loss :  tensor(1.00000e-04 *\n",
      "       4.0112, device='cuda:0')\n",
      "loss :  tensor(1.00000e-04 *\n",
      "       5.2610, device='cuda:0')\n",
      "loss :  tensor(1.00000e-04 *\n",
      "       4.7349, device='cuda:0')\n",
      "loss :  tensor(1.00000e-04 *\n",
      "       4.9809, device='cuda:0')\n",
      "loss :  tensor(1.00000e-04 *\n",
      "       5.6170, device='cuda:0')\n",
      "loss :  tensor(1.00000e-04 *\n",
      "       5.7113, device='cuda:0')\n",
      "loss :  tensor(1.00000e-04 *\n",
      "       5.8008, device='cuda:0')\n",
      "loss :  tensor(1.00000e-04 *\n",
      "       5.5743, device='cuda:0')\n",
      "loss :  tensor(1.00000e-04 *\n",
      "       5.3401, device='cuda:0')\n",
      "loss :  tensor(1.00000e-04 *\n",
      "       4.4786, device='cuda:0')\n",
      "loss :  tensor(1.00000e-04 *\n",
      "       5.2586, device='cuda:0')\n",
      "loss :  tensor(1.00000e-04 *\n",
      "       4.9845, device='cuda:0')\n",
      "loss :  tensor(1.00000e-04 *\n",
      "       7.4008, device='cuda:0')\n",
      "loss :  tensor(1.00000e-04 *\n",
      "       5.8595, device='cuda:0')\n",
      "loss :  tensor(1.00000e-04 *\n",
      "       5.7098, device='cuda:0')\n",
      "loss :  tensor(1.00000e-04 *\n",
      "       4.7625, device='cuda:0')\n",
      "loss :  tensor(1.00000e-04 *\n",
      "       4.3426, device='cuda:0')\n",
      "loss :  tensor(1.00000e-04 *\n",
      "       4.5124, device='cuda:0')\n",
      "loss :  tensor(1.00000e-04 *\n",
      "       4.7253, device='cuda:0')\n",
      "loss :  tensor(1.00000e-04 *\n",
      "       4.7279, device='cuda:0')\n",
      "loss :  tensor(1.00000e-04 *\n",
      "       3.9205, device='cuda:0')\n",
      "loss :  tensor(1.00000e-04 *\n",
      "       5.4879, device='cuda:0')\n",
      "loss :  tensor(1.00000e-04 *\n",
      "       4.9118, device='cuda:0')\n",
      "loss :  tensor(1.00000e-04 *\n",
      "       4.7401, device='cuda:0')\n",
      "loss :  tensor(1.00000e-04 *\n",
      "       5.1032, device='cuda:0')\n",
      "loss :  tensor(1.00000e-04 *\n",
      "       5.1447, device='cuda:0')\n",
      "loss :  tensor(1.00000e-04 *\n",
      "       4.7758, device='cuda:0')\n",
      "loss :  tensor(1.00000e-04 *\n",
      "       4.7928, device='cuda:0')\n",
      "loss :  tensor(1.00000e-04 *\n",
      "       5.5994, device='cuda:0')\n",
      "loss :  tensor(1.00000e-04 *\n",
      "       6.2189, device='cuda:0')\n",
      "loss :  tensor(1.00000e-04 *\n",
      "       5.9823, device='cuda:0')\n",
      "loss :  tensor(1.00000e-04 *\n",
      "       5.8096, device='cuda:0')\n",
      "loss :  tensor(1.00000e-04 *\n",
      "       5.6370, device='cuda:0')\n",
      "loss :  tensor(1.00000e-04 *\n",
      "       4.6114, device='cuda:0')\n",
      "loss :  tensor(1.00000e-04 *\n",
      "       3.9591, device='cuda:0')\n",
      "loss :  tensor(1.00000e-04 *\n",
      "       4.3393, device='cuda:0')\n",
      "loss :  tensor(1.00000e-04 *\n",
      "       4.9714, device='cuda:0')\n",
      "loss :  tensor(1.00000e-04 *\n",
      "       6.2737, device='cuda:0')\n",
      "loss :  tensor(1.00000e-04 *\n",
      "       5.1906, device='cuda:0')\n",
      "loss :  tensor(1.00000e-04 *\n",
      "       5.0390, device='cuda:0')\n",
      "loss :  tensor(1.00000e-04 *\n",
      "       5.0414, device='cuda:0')\n",
      "loss :  tensor(1.00000e-04 *\n",
      "       5.0458, device='cuda:0')\n",
      "loss :  tensor(1.00000e-04 *\n",
      "       5.1586, device='cuda:0')\n",
      "loss :  tensor(1.00000e-04 *\n",
      "       6.3026, device='cuda:0')\n",
      "loss :  tensor(1.00000e-04 *\n",
      "       5.9743, device='cuda:0')\n",
      "loss :  tensor(1.00000e-04 *\n",
      "       3.9171, device='cuda:0')\n",
      "loss :  tensor(1.00000e-04 *\n",
      "       5.2086, device='cuda:0')\n"
     ]
    }
   ],
   "source": [
    "#test phase\n",
    "\n",
    "encoder.load_state_dict(torch.load('./saved_data/sparse_autoencoer_model.ckpt'))\n",
    "for i ,[t_image,t_label]in enumerate(test_loader):\n",
    "    t_image=Variable(t_image).cuda()\n",
    "    t_out=encoder(t_image)\n",
    "    loss=loss_fun(t_out,t_image)\n",
    "    print(\"loss : \",loss)"
   ]
  },
  {
   "cell_type": "code",
   "execution_count": 18,
   "metadata": {},
   "outputs": [
    {
     "data": {
      "image/png": "[encoded data removed]",
      "text/plain": [
       "<matplotlib.figure.Figure at 0x12e0313eac8>"
      ]
     },
     "metadata": {},
     "output_type": "display_data"
    },
    {
     "data": {
      "image/png": "[encoded data removed]",
      "text/plain": [
       "<matplotlib.figure.Figure at 0x12e0339fcf8>"
      ]
     },
     "metadata": {},
     "output_type": "display_data"
    },
    {
     "data": {
      "image/png": "[encoded data removed]",
      "text/plain": [
       "<matplotlib.figure.Figure at 0x12e032c7080>"
      ]
     },
     "metadata": {},
     "output_type": "display_data"
    },
    {
     "data": {
      "image/png": "[encoded data removed]",
      "text/plain": [
       "<matplotlib.figure.Figure at 0x12e03c13e10>"
      ]
     },
     "metadata": {},
     "output_type": "display_data"
    },
    {
     "data": {
      "image/png": "[encoded data removed]",
      "text/plain": [
       "<matplotlib.figure.Figure at 0x12e031a8a90>"
      ]
     },
     "metadata": {},
     "output_type": "display_data"
    },
    {
     "data": {
      "image/png": "[encoded data removed]",
      "text/plain": [
       "<matplotlib.figure.Figure at 0x12e5ef69d30>"
      ]
     },
     "metadata": {},
     "output_type": "display_data"
    },
    {
     "data": {
      "image/png": "[encoded data removed]",
      "text/plain": [
       "<matplotlib.figure.Figure at 0x12e03ca32b0>"
      ]
     },
     "metadata": {},
     "output_type": "display_data"
    },
    {
     "data": {
      "image/png": "[encoded data removed]",
      "text/plain": [
       "<matplotlib.figure.Figure at 0x12e02e8be10>"
      ]
     },
     "metadata": {},
     "output_type": "display_data"
    },
    {
     "data": {
      "image/png": "[encoded data removed]",
      "text/plain": [
       "<matplotlib.figure.Figure at 0x12e03be6160>"
      ]
     },
     "metadata": {},
     "output_type": "display_data"
    },
    {
     "data": {
      "image/png": "[encoded data removed]",
      "text/plain": [
       "<matplotlib.figure.Figure at 0x12e03cc24a8>"
      ]
     },
     "metadata": {},
     "output_type": "display_data"
    },
    {
     "data": {
      "image/png": "[encoded data removed]",
      "text/plain": [
       "<matplotlib.figure.Figure at 0x12e03e8b320>"
      ]
     },
     "metadata": {},
     "output_type": "display_data"
    },
    {
     "data": {
      "image/png": "[encoded data removed]",
      "text/plain": [
       "<matplotlib.figure.Figure at 0x12e03ede4e0>"
      ]
     },
     "metadata": {},
     "output_type": "display_data"
    },
    {
     "data": {
      "image/png": "[encoded data removed]",
      "text/plain": [
       "<matplotlib.figure.Figure at 0x12e03e76a20>"
      ]
     },
     "metadata": {},
     "output_type": "display_data"
    },
    {
     "data": {
      "image/png": "[encoded data removed]",
      "text/plain": [
       "<matplotlib.figure.Figure at 0x12e1240e780>"
      ]
     },
     "metadata": {},
     "output_type": "display_data"
    },
    {
     "data": {
      "image/png": "[encoded data removed]",
      "text/plain": [
       "<matplotlib.figure.Figure at 0x12e13809128>"
      ]
     },
     "metadata": {},
     "output_type": "display_data"
    },
    {
     "data": {
      "image/png": "[encoded data removed]",
      "text/plain": [
       "<matplotlib.figure.Figure at 0x12e13ba5a90>"
      ]
     },
     "metadata": {},
     "output_type": "display_data"
    },
    {
     "data": {
      "image/png": "[encoded data removed]",
      "text/plain": [
       "<matplotlib.figure.Figure at 0x12e13c01780>"
      ]
     },
     "metadata": {},
     "output_type": "display_data"
    },
    {
     "data": {
      "image/png": "[encoded data removed]",
      "text/plain": [
       "<matplotlib.figure.Figure at 0x12e14081eb8>"
      ]
     },
     "metadata": {},
     "output_type": "display_data"
    },
    {
     "data": {
      "image/png": "[encoded data removed]",
      "text/plain": [
       "<matplotlib.figure.Figure at 0x12e140c9a20>"
      ]
     },
     "metadata": {},
     "output_type": "display_data"
    },
    {
     "data": {
      "image/png": "[encoded data removed]",
      "text/plain": [
       "<matplotlib.figure.Figure at 0x12e143f90f0>"
      ]
     },
     "metadata": {},
     "output_type": "display_data"
    }
   ],
   "source": [
    "for i in range(10):\n",
    "    input_image=t_image[i].cpu()\n",
    "    output_image=t_out[i].cpu()\n",
    "    input_image=input_image.data.numpy()\n",
    "    output_image=output_image.data.numpy()\n",
    "    plt.imshow(input_image[0],cmap='gray')\n",
    "    plt.show()\n",
    "    plt.imshow(output_image[0],cmap='gray')\n",
    "    plt.show()\n"
   ]
  },
  {
   "cell_type": "code",
   "execution_count": null,
   "metadata": {},
   "outputs": [],
   "source": []
  }
 ],
 "metadata": {
  "kernelspec": {
   "display_name": "Python 3",
   "language": "python",
   "name": "python3"
  },
  "language_info": {
   "codemirror_mode": {
    "name": "ipython",
    "version": 3
   },
   "file_extension": ".py",
   "mimetype": "text/x-python",
   "name": "python",
   "nbconvert_exporter": "python",
   "pygments_lexer": "ipython3",
   "version": "3.6.4"
  }
 },
 "nbformat": 4,
 "nbformat_minor": 2
}
