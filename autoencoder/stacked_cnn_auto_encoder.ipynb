{
 "cells": [
  {
   "cell_type": "code",
   "execution_count": 1,
   "metadata": {},
   "outputs": [
    {
     "name": "stdout",
     "output_type": "stream",
     "text": [
      "cuda:0\n"
     ]
    }
   ],
   "source": [
    "import torch \n",
    "import torch.nn as nn\n",
    "import torchvision\n",
    "import torchvision.transforms as transforms\n",
    "from torch.autograd import Variable\n",
    "import os\n",
    "import matplotlib.pyplot as plt\n",
    "%matplotlib inline\n",
    "device = torch.device('cuda:0' if torch.cuda.is_available() else 'cpu')\n",
    "print(device)\n",
    "batch_size=100"
   ]
  },
  {
   "cell_type": "code",
   "execution_count": 2,
   "metadata": {},
   "outputs": [],
   "source": [
    "learning_rate=1e-3\n",
    "epochs=51\n",
    "# MNIST dataset (images and labels)\n",
    "train_dataset = torchvision.datasets.MNIST(root='./data', \n",
    "                                           train=True, \n",
    "                                           transform=transforms.ToTensor(),\n",
    "                                           download=True)\n",
    "\n",
    "test_dataset = torchvision.datasets.MNIST(root='./data', \n",
    "                                          train=False, \n",
    "                                          transform=transforms.ToTensor())\n",
    "\n",
    "# Data loader (input pipeline)\n",
    "train_loader = torch.utils.data.DataLoader(dataset=train_dataset, \n",
    "                                           batch_size=batch_size, \n",
    "                                           shuffle=True)\n",
    "\n",
    "test_loader = torch.utils.data.DataLoader(dataset=test_dataset, \n",
    "                                          batch_size=batch_size, \n",
    "                                          shuffle=False)"
   ]
  },
  {
   "cell_type": "code",
   "execution_count": 82,
   "metadata": {},
   "outputs": [],
   "source": [
    "\n",
    "class CNN_AutoEncoder(nn.Module):\n",
    "    def __init__(self):\n",
    "        super(CNN_AutoEncoder,self).__init__()\n",
    "        self.layer1 = nn.Sequential(\n",
    "                        nn.Conv2d(1,16,3,padding=1),   # batch x 16 x 28 x 28\n",
    "                        nn.ReLU(),\n",
    "                        nn.BatchNorm2d(16),\n",
    "                        nn.MaxPool2d(2,2),\n",
    "                        nn.Conv2d(16,32,3,padding=1),   # batch x 16 x 28 x 28\n",
    "                        nn.ReLU(),\n",
    "                        nn.BatchNorm2d(32),\n",
    "                        nn.MaxPool2d(2,2)\n",
    "                        \n",
    "        )\n",
    "        self.layer2=nn.Sequential(\n",
    "                        nn.ConvTranspose2d(32,16,kernel_size=3,stride=2,\n",
    "                                           padding=1,output_padding=1),\n",
    "                        nn.ReLU(),\n",
    "                        nn.BatchNorm2d(16),\n",
    "                        nn.ConvTranspose2d(16,3,3,2,1,1),\n",
    "                        nn.ReLU(),\n",
    "                        nn.BatchNorm2d(3),\n",
    "                        nn.ConvTranspose2d(3,1,3,1,1),\n",
    "                        nn.ReLU()\n",
    "        )\n",
    "                \n",
    "    def forward(self,x):\n",
    "        out = self.layer1(x)\n",
    "#         print(out.shape)\n",
    "        out = self.layer2(out)\n",
    "#         print(out.shape)\n",
    "        return out\n",
    "    \n",
    "encoder = CNN_AutoEncoder().cuda()\n",
    "loss_fun=nn.MSELoss()\n",
    "optimizer=torch.optim.Adam(encoder.parameters(),lr=learning_rate)"
   ]
  },
  {
   "cell_type": "code",
   "execution_count": 83,
   "metadata": {},
   "outputs": [
    {
     "name": "stdout",
     "output_type": "stream",
     "text": [
      "epochs :  0 , loss :  tensor(1.00000e-03 *\n",
      "       3.5697, device='cuda:0')\n",
      "epochs :  10 , loss :  tensor(1.00000e-03 *\n",
      "       2.0946, device='cuda:0')\n",
      "epochs :  20 , loss :  tensor(1.00000e-03 *\n",
      "       1.6108, device='cuda:0')\n",
      "epochs :  30 , loss :  tensor(1.00000e-03 *\n",
      "       1.4639, device='cuda:0')\n",
      "epochs :  40 , loss :  tensor(1.00000e-03 *\n",
      "       1.6205, device='cuda:0')\n",
      "epochs :  50 , loss :  tensor(1.00000e-03 *\n",
      "       1.3441, device='cuda:0')\n",
      "learning finished !\n"
     ]
    }
   ],
   "source": [
    "# if(os.path.isfile('./saved_data/cnn_stacked_autoencoder.ckpt')==True):\n",
    "#     print(\"--------------load saved data--------------\")\n",
    "#     encoder.load_state_dict(torch.load('./saved_data/cnn_stacked_autoencoder.ckpt'))\n",
    "for j in range(epochs):\n",
    "    for i ,[image,label] in enumerate(train_loader):\n",
    "        image=Variable(image).cuda()\n",
    "        \n",
    "        optimizer.zero_grad()\n",
    "        output=encoder(image)\n",
    "        loss=loss_fun(output,image)\n",
    "        loss.backward()\n",
    "        optimizer.step()\n",
    "    if(j%10==0):\n",
    "        print(\"epochs : \",j,\", loss : \",loss)    \n",
    "print(\"learning finished !\")        "
   ]
  },
  {
   "cell_type": "code",
   "execution_count": 84,
   "metadata": {},
   "outputs": [
    {
     "name": "stdout",
     "output_type": "stream",
     "text": [
      "saved data\n"
     ]
    }
   ],
   "source": [
    "print(\"saved data\")\n",
    "torch.save(encoder.state_dict(), './saved_data/cnn_stacked_autoencoder.ckpt')"
   ]
  },
  {
   "cell_type": "code",
   "execution_count": 85,
   "metadata": {},
   "outputs": [
    {
     "name": "stdout",
     "output_type": "stream",
     "text": [
      "loss :  tensor(1.00000e-03 *\n",
      "       1.4429, device='cuda:0')\n",
      "loss :  tensor(1.00000e-03 *\n",
      "       1.5597, device='cuda:0')\n",
      "loss :  tensor(1.00000e-03 *\n",
      "       1.2983, device='cuda:0')\n",
      "loss :  tensor(1.00000e-03 *\n",
      "       1.5227, device='cuda:0')\n",
      "loss :  tensor(1.00000e-03 *\n",
      "       1.5379, device='cuda:0')\n",
      "loss :  tensor(1.00000e-03 *\n",
      "       1.5083, device='cuda:0')\n",
      "loss :  tensor(1.00000e-03 *\n",
      "       1.3773, device='cuda:0')\n",
      "loss :  tensor(1.00000e-03 *\n",
      "       1.2397, device='cuda:0')\n",
      "loss :  tensor(1.00000e-03 *\n",
      "       1.3808, device='cuda:0')\n",
      "loss :  tensor(1.00000e-03 *\n",
      "       1.3940, device='cuda:0')\n",
      "loss :  tensor(1.00000e-03 *\n",
      "       1.5140, device='cuda:0')\n",
      "loss :  tensor(1.00000e-03 *\n",
      "       1.4574, device='cuda:0')\n",
      "loss :  tensor(1.00000e-03 *\n",
      "       1.7684, device='cuda:0')\n",
      "loss :  tensor(1.00000e-03 *\n",
      "       1.5636, device='cuda:0')\n",
      "loss :  tensor(1.00000e-03 *\n",
      "       1.5890, device='cuda:0')\n",
      "loss :  tensor(1.00000e-03 *\n",
      "       1.5712, device='cuda:0')\n",
      "loss :  tensor(1.00000e-03 *\n",
      "       1.5165, device='cuda:0')\n",
      "loss :  tensor(1.00000e-03 *\n",
      "       1.6614, device='cuda:0')\n",
      "loss :  tensor(1.00000e-03 *\n",
      "       1.3800, device='cuda:0')\n",
      "loss :  tensor(1.00000e-03 *\n",
      "       1.8357, device='cuda:0')\n",
      "loss :  tensor(1.00000e-03 *\n",
      "       1.5784, device='cuda:0')\n",
      "loss :  tensor(1.00000e-03 *\n",
      "       1.3908, device='cuda:0')\n",
      "loss :  tensor(1.00000e-03 *\n",
      "       1.6487, device='cuda:0')\n",
      "loss :  tensor(1.00000e-03 *\n",
      "       1.3042, device='cuda:0')\n",
      "loss :  tensor(1.00000e-03 *\n",
      "       1.4494, device='cuda:0')\n",
      "loss :  tensor(1.00000e-03 *\n",
      "       1.4372, device='cuda:0')\n",
      "loss :  tensor(1.00000e-03 *\n",
      "       1.6419, device='cuda:0')\n",
      "loss :  tensor(1.00000e-03 *\n",
      "       1.4804, device='cuda:0')\n",
      "loss :  tensor(1.00000e-03 *\n",
      "       1.3372, device='cuda:0')\n",
      "loss :  tensor(1.00000e-03 *\n",
      "       1.6054, device='cuda:0')\n",
      "loss :  tensor(1.00000e-03 *\n",
      "       1.7251, device='cuda:0')\n",
      "loss :  tensor(1.00000e-03 *\n",
      "       1.4539, device='cuda:0')\n",
      "loss :  tensor(1.00000e-03 *\n",
      "       1.3774, device='cuda:0')\n",
      "loss :  tensor(1.00000e-03 *\n",
      "       1.3989, device='cuda:0')\n",
      "loss :  tensor(1.00000e-03 *\n",
      "       1.3708, device='cuda:0')\n",
      "loss :  tensor(1.00000e-03 *\n",
      "       1.4034, device='cuda:0')\n",
      "loss :  tensor(1.00000e-03 *\n",
      "       1.3571, device='cuda:0')\n",
      "loss :  tensor(1.00000e-03 *\n",
      "       1.5573, device='cuda:0')\n",
      "loss :  tensor(1.00000e-03 *\n",
      "       1.4562, device='cuda:0')\n",
      "loss :  tensor(1.00000e-03 *\n",
      "       1.4726, device='cuda:0')\n",
      "loss :  tensor(1.00000e-03 *\n",
      "       1.4552, device='cuda:0')\n",
      "loss :  tensor(1.00000e-03 *\n",
      "       1.4737, device='cuda:0')\n",
      "loss :  tensor(1.00000e-03 *\n",
      "       1.4575, device='cuda:0')\n",
      "loss :  tensor(1.00000e-03 *\n",
      "       1.5087, device='cuda:0')\n",
      "loss :  tensor(1.00000e-03 *\n",
      "       1.4726, device='cuda:0')\n",
      "loss :  tensor(1.00000e-03 *\n",
      "       1.2585, device='cuda:0')\n",
      "loss :  tensor(1.00000e-03 *\n",
      "       1.4007, device='cuda:0')\n",
      "loss :  tensor(1.00000e-03 *\n",
      "       1.3926, device='cuda:0')\n",
      "loss :  tensor(1.00000e-03 *\n",
      "       1.4529, device='cuda:0')\n",
      "loss :  tensor(1.00000e-03 *\n",
      "       1.3687, device='cuda:0')\n",
      "loss :  tensor(1.00000e-03 *\n",
      "       1.3920, device='cuda:0')\n",
      "loss :  tensor(1.00000e-03 *\n",
      "       1.2465, device='cuda:0')\n",
      "loss :  tensor(1.00000e-03 *\n",
      "       1.1465, device='cuda:0')\n",
      "loss :  tensor(1.00000e-03 *\n",
      "       1.2249, device='cuda:0')\n",
      "loss :  tensor(1.00000e-03 *\n",
      "       1.4888, device='cuda:0')\n",
      "loss :  tensor(1.00000e-03 *\n",
      "       1.6555, device='cuda:0')\n",
      "loss :  tensor(1.00000e-03 *\n",
      "       1.3426, device='cuda:0')\n",
      "loss :  tensor(1.00000e-03 *\n",
      "       1.3884, device='cuda:0')\n",
      "loss :  tensor(1.00000e-03 *\n",
      "       1.4310, device='cuda:0')\n",
      "loss :  tensor(1.00000e-03 *\n",
      "       1.8268, device='cuda:0')\n",
      "loss :  tensor(1.00000e-03 *\n",
      "       2.9156, device='cuda:0')\n",
      "loss :  tensor(1.00000e-03 *\n",
      "       5.2137, device='cuda:0')\n",
      "loss :  tensor(1.00000e-03 *\n",
      "       1.5120, device='cuda:0')\n",
      "loss :  tensor(1.00000e-03 *\n",
      "       1.6337, device='cuda:0')\n",
      "loss :  tensor(1.00000e-03 *\n",
      "       1.5498, device='cuda:0')\n",
      "loss :  tensor(1.00000e-03 *\n",
      "       2.3617, device='cuda:0')\n",
      "loss :  tensor(1.00000e-03 *\n",
      "       2.7173, device='cuda:0')\n",
      "loss :  tensor(1.00000e-03 *\n",
      "       2.5939, device='cuda:0')\n",
      "loss :  tensor(1.00000e-03 *\n",
      "       1.1131, device='cuda:0')\n",
      "loss :  tensor(1.00000e-03 *\n",
      "       1.2768, device='cuda:0')\n",
      "loss :  tensor(1.00000e-03 *\n",
      "       1.3185, device='cuda:0')\n",
      "loss :  tensor(1.00000e-03 *\n",
      "       1.2953, device='cuda:0')\n",
      "loss :  tensor(1.00000e-03 *\n",
      "       1.2726, device='cuda:0')\n",
      "loss :  tensor(1.00000e-03 *\n",
      "       2.3864, device='cuda:0')\n",
      "loss :  tensor(1.00000e-03 *\n",
      "       1.9780, device='cuda:0')\n",
      "loss :  tensor(1.00000e-03 *\n",
      "       1.7027, device='cuda:0')\n",
      "loss :  tensor(1.00000e-03 *\n",
      "       1.5041, device='cuda:0')\n",
      "loss :  tensor(1.00000e-03 *\n",
      "       3.5185, device='cuda:0')\n",
      "loss :  tensor(1.00000e-03 *\n",
      "       6.5752, device='cuda:0')\n",
      "loss :  tensor(1.00000e-03 *\n",
      "       4.4401, device='cuda:0')\n",
      "loss :  tensor(1.00000e-03 *\n",
      "       4.4604, device='cuda:0')\n",
      "loss :  tensor(1.00000e-03 *\n",
      "       1.6673, device='cuda:0')\n",
      "loss :  tensor(1.00000e-03 *\n",
      "       1.5807, device='cuda:0')\n",
      "loss :  tensor(1.00000e-03 *\n",
      "       1.6044, device='cuda:0')\n",
      "loss :  tensor(1.00000e-03 *\n",
      "       1.7735, device='cuda:0')\n",
      "loss :  tensor(1.00000e-03 *\n",
      "       1.8069, device='cuda:0')\n",
      "loss :  tensor(1.00000e-03 *\n",
      "       1.2384, device='cuda:0')\n",
      "loss :  tensor(1.00000e-03 *\n",
      "       1.6409, device='cuda:0')\n",
      "loss :  tensor(1.00000e-03 *\n",
      "       1.3398, device='cuda:0')\n",
      "loss :  tensor(1.00000e-03 *\n",
      "       1.4163, device='cuda:0')\n",
      "loss :  tensor(1.00000e-03 *\n",
      "       2.4406, device='cuda:0')\n",
      "loss :  tensor(1.00000e-03 *\n",
      "       2.5740, device='cuda:0')\n",
      "loss :  tensor(1.00000e-03 *\n",
      "       1.4444, device='cuda:0')\n",
      "loss :  tensor(1.00000e-03 *\n",
      "       1.3443, device='cuda:0')\n",
      "loss :  tensor(1.00000e-03 *\n",
      "       1.2785, device='cuda:0')\n",
      "loss :  tensor(1.00000e-03 *\n",
      "       1.7237, device='cuda:0')\n",
      "loss :  tensor(1.00000e-03 *\n",
      "       2.3830, device='cuda:0')\n",
      "loss :  tensor(1.00000e-03 *\n",
      "       1.8222, device='cuda:0')\n",
      "loss :  tensor(1.00000e-03 *\n",
      "       1.7621, device='cuda:0')\n",
      "loss :  tensor(1.00000e-03 *\n",
      "       1.5302, device='cuda:0')\n"
     ]
    },
    {
     "data": {
      "image/png": "[encoded data removed]",
      "text/plain": [
       "<matplotlib.figure.Figure at 0x1fa2147af60>"
      ]
     },
     "metadata": {},
     "output_type": "display_data"
    },
    {
     "data": {
      "image/png": "[encoded data removed]",
      "text/plain": [
       "<matplotlib.figure.Figure at 0x1fa2146ea20>"
      ]
     },
     "metadata": {},
     "output_type": "display_data"
    },
    {
     "data": {
      "image/png": "[encoded data removed]",
      "text/plain": [
       "<matplotlib.figure.Figure at 0x1fa2148b320>"
      ]
     },
     "metadata": {},
     "output_type": "display_data"
    },
    {
     "data": {
      "image/png": "[encoded data removed]",
      "text/plain": [
       "<matplotlib.figure.Figure at 0x1fa1c684c18>"
      ]
     },
     "metadata": {},
     "output_type": "display_data"
    },
    {
     "data": {
      "image/png": "[encoded data removed]",
      "text/plain": [
       "<matplotlib.figure.Figure at 0x1fa2147c780>"
      ]
     },
     "metadata": {},
     "output_type": "display_data"
    },
    {
     "data": {
      "image/png": "[encoded data removed]",
      "text/plain": [
       "<matplotlib.figure.Figure at 0x1fa0f374c50>"
      ]
     },
     "metadata": {},
     "output_type": "display_data"
    },
    {
     "data": {
      "image/png": "[encoded data removed]",
      "text/plain": [
       "<matplotlib.figure.Figure at 0x1fa01d34978>"
      ]
     },
     "metadata": {},
     "output_type": "display_data"
    },
    {
     "data": {
      "image/png": "[encoded data removed]",
      "text/plain": [
       "<matplotlib.figure.Figure at 0x1fa0ec8db70>"
      ]
     },
     "metadata": {},
     "output_type": "display_data"
    },
    {
     "data": {
      "image/png": "[encoded data removed]",
      "text/plain": [
       "<matplotlib.figure.Figure at 0x1fa29646828>"
      ]
     },
     "metadata": {},
     "output_type": "display_data"
    },
    {
     "data": {
      "image/png": "[encoded data removed]",
      "text/plain": [
       "<matplotlib.figure.Figure at 0x1fa29b514a8>"
      ]
     },
     "metadata": {},
     "output_type": "display_data"
    },
    {
     "data": {
      "image/png": "[encoded data removed]",
      "text/plain": [
       "<matplotlib.figure.Figure at 0x1fa42a49da0>"
      ]
     },
     "metadata": {},
     "output_type": "display_data"
    },
    {
     "data": {
      "image/png": "[encoded data removed]",
      "text/plain": [
       "<matplotlib.figure.Figure at 0x1fa42d504e0>"
      ]
     },
     "metadata": {},
     "output_type": "display_data"
    },
    {
     "data": {
      "image/png": "[encoded data removed]",
      "text/plain": [
       "<matplotlib.figure.Figure at 0x1fa48e61ef0>"
      ]
     },
     "metadata": {},
     "output_type": "display_data"
    },
    {
     "data": {
      "image/png": "[encoded data removed]",
      "text/plain": [
       "<matplotlib.figure.Figure at 0x1fa647c2780>"
      ]
     },
     "metadata": {},
     "output_type": "display_data"
    },
    {
     "data": {
      "image/png": "[encoded data removed]",
      "text/plain": [
       "<matplotlib.figure.Figure at 0x1fa6481e128>"
      ]
     },
     "metadata": {},
     "output_type": "display_data"
    },
    {
     "data": {
      "image/png": "[encoded data removed]",
      "text/plain": [
       "<matplotlib.figure.Figure at 0x1fa6b1c6a90>"
      ]
     },
     "metadata": {},
     "output_type": "display_data"
    },
    {
     "data": {
      "image/png": "[encoded data removed]",
      "text/plain": [
       "<matplotlib.figure.Figure at 0x1fa6b3e54a8>"
      ]
     },
     "metadata": {},
     "output_type": "display_data"
    },
    {
     "data": {
      "image/png": "[encoded data removed]",
      "text/plain": [
       "<matplotlib.figure.Figure at 0x1fa6b454eb8>"
      ]
     },
     "metadata": {},
     "output_type": "display_data"
    },
    {
     "data": {
      "image/png": "[encoded data removed]",
      "text/plain": [
       "<matplotlib.figure.Figure at 0x1fa6ecec7b8>"
      ]
     },
     "metadata": {},
     "output_type": "display_data"
    },
    {
     "data": {
      "image/png": "[encoded data removed]",
      "text/plain": [
       "<matplotlib.figure.Figure at 0x1fa87af90f0>"
      ]
     },
     "metadata": {},
     "output_type": "display_data"
    }
   ],
   "source": [
    "#test phase\n",
    "\n",
    "encoder.load_state_dict(torch.load('./saved_data/cnn_stacked_autoencoder.ckpt'))\n",
    "for i ,[t_image,t_label]in enumerate(test_loader):\n",
    "    t_image=Variable(t_image).cuda()\n",
    "    t_out=encoder(t_image)\n",
    "    loss=loss_fun(t_out,t_image)\n",
    "    print(\"loss : \",loss)\n",
    "for i in range(10):\n",
    "    input_image=t_image[i].cpu()\n",
    "    output_image=t_out[i].cpu()\n",
    "    input_image=input_image.data.numpy()\n",
    "    output_image=output_image.data.numpy()\n",
    "    plt.imshow(input_image[0],cmap='gray')\n",
    "    plt.show()\n",
    "    plt.imshow(output_image[0],cmap='gray')\n",
    "    plt.show()\n"
   ]
  },
  {
   "cell_type": "code",
   "execution_count": null,
   "metadata": {},
   "outputs": [],
   "source": []
  }
 ],
 "metadata": {
  "kernelspec": {
   "display_name": "Python 3",
   "language": "python",
   "name": "python3"
  },
  "language_info": {
   "codemirror_mode": {
    "name": "ipython",
    "version": 3
   },
   "file_extension": ".py",
   "mimetype": "text/x-python",
   "name": "python",
   "nbconvert_exporter": "python",
   "pygments_lexer": "ipython3",
   "version": "3.6.4"
  }
 },
 "nbformat": 4,
 "nbformat_minor": 2
}
