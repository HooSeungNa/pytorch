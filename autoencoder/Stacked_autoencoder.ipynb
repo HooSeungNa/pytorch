{
 "cells": [
  {
   "cell_type": "code",
   "execution_count": 1,
   "metadata": {},
   "outputs": [
    {
     "name": "stdout",
     "output_type": "stream",
     "text": [
      "cuda:0\n"
     ]
    }
   ],
   "source": [
    "import torch \n",
    "import torch.nn as nn\n",
    "import torchvision\n",
    "import torchvision.transforms as transforms\n",
    "from torch.autograd import Variable\n",
    "import os\n",
    "import matplotlib.pyplot as plt\n",
    "%matplotlib inline\n",
    "device = torch.device('cuda:0' if torch.cuda.is_available() else 'cpu')\n",
    "print(device)\n",
    "batch_size=100"
   ]
  },
  {
   "cell_type": "code",
   "execution_count": 2,
   "metadata": {},
   "outputs": [],
   "source": [
    "learning_rate=1e-3\n",
    "epochs=100\n",
    "# MNIST dataset (images and labels)\n",
    "train_dataset = torchvision.datasets.MNIST(root='./data', \n",
    "                                           train=True, \n",
    "                                           transform=transforms.ToTensor(),\n",
    "                                           download=True)\n",
    "\n",
    "test_dataset = torchvision.datasets.MNIST(root='./data', \n",
    "                                          train=False, \n",
    "                                          transform=transforms.ToTensor())\n",
    "\n",
    "# Data loader (input pipeline)\n",
    "train_loader = torch.utils.data.DataLoader(dataset=train_dataset, \n",
    "                                           batch_size=batch_size, \n",
    "                                           shuffle=True)\n",
    "\n",
    "test_loader = torch.utils.data.DataLoader(dataset=test_dataset, \n",
    "                                          batch_size=batch_size, \n",
    "                                          shuffle=False)"
   ]
  },
  {
   "cell_type": "code",
   "execution_count": 3,
   "metadata": {},
   "outputs": [],
   "source": [
    "class ae(nn.Module):\n",
    "    def __init__(self):\n",
    "        super(ae,self).__init__()\n",
    "        self.layer1=nn.Sequential(\n",
    "            nn.Linear(28*28,400),\n",
    "            nn.Sigmoid()\n",
    "        )\n",
    "        self.layer2=nn.Sequential(\n",
    "            nn.Linear(400,300),\n",
    "            nn.Sigmoid()\n",
    "        )\n",
    "        self.layer3=nn.Sequential(\n",
    "            nn.Linear(300,200),\n",
    "            nn.Sigmoid()\n",
    "        )\n",
    "        self.layer4=nn.Sequential(\n",
    "            nn.Linear(200,784),\n",
    "            nn.Sigmoid()\n",
    "        )\n",
    "    def forward(self,x):\n",
    "        x=x.view(batch_size,-1)\n",
    "        out=self.layer1(x)\n",
    "#         print(out.shape)\n",
    "        out = self.layer2(out)\n",
    "        out = self.layer3(out)\n",
    "        out = self.layer4(out)\n",
    "#         print(out.shape)\n",
    "        out=out.view(batch_size,-1,28,28)\n",
    "        \n",
    "        return out\n",
    "encoder=ae().cuda()\n",
    "loss_fun=nn.MSELoss()\n",
    "optimizer=torch.optim.Adam(encoder.parameters(),lr=learning_rate)"
   ]
  },
  {
   "cell_type": "code",
   "execution_count": 4,
   "metadata": {},
   "outputs": [
    {
     "name": "stdout",
     "output_type": "stream",
     "text": [
      "epochs :  0 , loss :  tensor(1.00000e-02 *\n",
      "       6.1362, device='cuda:0')\n",
      "epochs :  10 , loss :  tensor(1.00000e-03 *\n",
      "       8.7462, device='cuda:0')\n",
      "epochs :  20 , loss :  tensor(1.00000e-03 *\n",
      "       5.3467, device='cuda:0')\n",
      "epochs :  30 , loss :  tensor(1.00000e-03 *\n",
      "       4.2166, device='cuda:0')\n",
      "epochs :  40 , loss :  tensor(1.00000e-03 *\n",
      "       3.4670, device='cuda:0')\n",
      "epochs :  50 , loss :  tensor(1.00000e-03 *\n",
      "       2.7610, device='cuda:0')\n",
      "epochs :  60 , loss :  tensor(1.00000e-03 *\n",
      "       2.5260, device='cuda:0')\n",
      "epochs :  70 , loss :  tensor(1.00000e-03 *\n",
      "       2.5615, device='cuda:0')\n",
      "epochs :  80 , loss :  tensor(1.00000e-03 *\n",
      "       2.1167, device='cuda:0')\n",
      "epochs :  90 , loss :  tensor(1.00000e-03 *\n",
      "       1.8934, device='cuda:0')\n"
     ]
    }
   ],
   "source": [
    "#trainging phase\n",
    "if(os.path.isfile('./saved_data/stacked_autoencoder.ckpt')==True):\n",
    "    print(\"--------------load saved data--------------\")\n",
    "    encoder.load_state_dict(torch.load('./saved_data/stacked_autoencoder.ckpt'))\n",
    "for i in range(epochs):\n",
    "    for j , [image,label] in enumerate(train_loader):\n",
    "        image=Variable(image).cuda()\n",
    "#         print(image.shape)\n",
    "        optimizer.zero_grad()\n",
    "        output=encoder(image)\n",
    "        loss=loss_fun(output,image)\n",
    "        loss.backward()\n",
    "        optimizer.step()\n",
    "    if(i%10==0):\n",
    "        print(\"epochs : \",i,\", loss : \",loss)"
   ]
  },
  {
   "cell_type": "code",
   "execution_count": 5,
   "metadata": {},
   "outputs": [
    {
     "name": "stdout",
     "output_type": "stream",
     "text": [
      "saved data\n"
     ]
    }
   ],
   "source": [
    "print(\"saved data\")\n",
    "torch.save(encoder.state_dict(), './saved_data/stacked_autoencoder.ckpt')"
   ]
  },
  {
   "cell_type": "code",
   "execution_count": 7,
   "metadata": {},
   "outputs": [
    {
     "name": "stdout",
     "output_type": "stream",
     "text": [
      "loss :  tensor(1.00000e-03 *\n",
      "       1.9789, device='cuda:0')\n",
      "loss :  tensor(1.00000e-03 *\n",
      "       1.9693, device='cuda:0')\n",
      "loss :  tensor(1.00000e-03 *\n",
      "       1.9015, device='cuda:0')\n",
      "loss :  tensor(1.00000e-03 *\n",
      "       2.0632, device='cuda:0')\n",
      "loss :  tensor(1.00000e-03 *\n",
      "       2.3761, device='cuda:0')\n",
      "loss :  tensor(1.00000e-03 *\n",
      "       2.2231, device='cuda:0')\n",
      "loss :  tensor(1.00000e-03 *\n",
      "       2.0653, device='cuda:0')\n",
      "loss :  tensor(1.00000e-03 *\n",
      "       1.8834, device='cuda:0')\n",
      "loss :  tensor(1.00000e-03 *\n",
      "       2.1811, device='cuda:0')\n",
      "loss :  tensor(1.00000e-03 *\n",
      "       1.9764, device='cuda:0')\n",
      "loss :  tensor(1.00000e-03 *\n",
      "       2.0481, device='cuda:0')\n",
      "loss :  tensor(1.00000e-03 *\n",
      "       2.1913, device='cuda:0')\n",
      "loss :  tensor(1.00000e-03 *\n",
      "       2.1551, device='cuda:0')\n",
      "loss :  tensor(1.00000e-03 *\n",
      "       2.2147, device='cuda:0')\n",
      "loss :  tensor(1.00000e-03 *\n",
      "       2.2344, device='cuda:0')\n",
      "loss :  tensor(1.00000e-03 *\n",
      "       2.0723, device='cuda:0')\n",
      "loss :  tensor(1.00000e-03 *\n",
      "       2.0567, device='cuda:0')\n",
      "loss :  tensor(1.00000e-03 *\n",
      "       2.2279, device='cuda:0')\n",
      "loss :  tensor(1.00000e-03 *\n",
      "       1.9925, device='cuda:0')\n",
      "loss :  tensor(1.00000e-03 *\n",
      "       2.1734, device='cuda:0')\n",
      "loss :  tensor(1.00000e-03 *\n",
      "       2.2721, device='cuda:0')\n",
      "loss :  tensor(1.00000e-03 *\n",
      "       2.2323, device='cuda:0')\n",
      "loss :  tensor(1.00000e-03 *\n",
      "       2.1957, device='cuda:0')\n",
      "loss :  tensor(1.00000e-03 *\n",
      "       2.2663, device='cuda:0')\n",
      "loss :  tensor(1.00000e-03 *\n",
      "       2.2303, device='cuda:0')\n",
      "loss :  tensor(1.00000e-03 *\n",
      "       1.9589, device='cuda:0')\n",
      "loss :  tensor(1.00000e-03 *\n",
      "       2.0635, device='cuda:0')\n",
      "loss :  tensor(1.00000e-03 *\n",
      "       2.1049, device='cuda:0')\n",
      "loss :  tensor(1.00000e-03 *\n",
      "       2.1264, device='cuda:0')\n",
      "loss :  tensor(1.00000e-03 *\n",
      "       2.0436, device='cuda:0')\n",
      "loss :  tensor(1.00000e-03 *\n",
      "       2.1189, device='cuda:0')\n",
      "loss :  tensor(1.00000e-03 *\n",
      "       2.0332, device='cuda:0')\n",
      "loss :  tensor(1.00000e-03 *\n",
      "       2.1260, device='cuda:0')\n",
      "loss :  tensor(1.00000e-03 *\n",
      "       2.1617, device='cuda:0')\n",
      "loss :  tensor(1.00000e-03 *\n",
      "       1.8703, device='cuda:0')\n",
      "loss :  tensor(1.00000e-03 *\n",
      "       2.1526, device='cuda:0')\n",
      "loss :  tensor(1.00000e-03 *\n",
      "       2.0149, device='cuda:0')\n",
      "loss :  tensor(1.00000e-03 *\n",
      "       2.3887, device='cuda:0')\n",
      "loss :  tensor(1.00000e-03 *\n",
      "       2.4738, device='cuda:0')\n",
      "loss :  tensor(1.00000e-03 *\n",
      "       2.2111, device='cuda:0')\n",
      "loss :  tensor(1.00000e-03 *\n",
      "       2.1748, device='cuda:0')\n",
      "loss :  tensor(1.00000e-03 *\n",
      "       2.0304, device='cuda:0')\n",
      "loss :  tensor(1.00000e-03 *\n",
      "       2.1680, device='cuda:0')\n",
      "loss :  tensor(1.00000e-03 *\n",
      "       2.0070, device='cuda:0')\n",
      "loss :  tensor(1.00000e-03 *\n",
      "       2.0660, device='cuda:0')\n",
      "loss :  tensor(1.00000e-03 *\n",
      "       2.0228, device='cuda:0')\n",
      "loss :  tensor(1.00000e-03 *\n",
      "       2.0233, device='cuda:0')\n",
      "loss :  tensor(1.00000e-03 *\n",
      "       1.8974, device='cuda:0')\n",
      "loss :  tensor(1.00000e-03 *\n",
      "       2.1879, device='cuda:0')\n",
      "loss :  tensor(1.00000e-03 *\n",
      "       1.8996, device='cuda:0')\n",
      "loss :  tensor(1.00000e-03 *\n",
      "       1.6496, device='cuda:0')\n",
      "loss :  tensor(1.00000e-03 *\n",
      "       1.9014, device='cuda:0')\n",
      "loss :  tensor(1.00000e-03 *\n",
      "       1.9127, device='cuda:0')\n",
      "loss :  tensor(1.00000e-03 *\n",
      "       1.4030, device='cuda:0')\n",
      "loss :  tensor(1.00000e-03 *\n",
      "       2.1196, device='cuda:0')\n",
      "loss :  tensor(1.00000e-03 *\n",
      "       1.5966, device='cuda:0')\n",
      "loss :  tensor(1.00000e-03 *\n",
      "       1.8553, device='cuda:0')\n",
      "loss :  tensor(1.00000e-03 *\n",
      "       2.3570, device='cuda:0')\n",
      "loss :  tensor(1.00000e-03 *\n",
      "       2.2423, device='cuda:0')\n",
      "loss :  tensor(1.00000e-03 *\n",
      "       2.0742, device='cuda:0')\n",
      "loss :  tensor(1.00000e-03 *\n",
      "       2.0513, device='cuda:0')\n",
      "loss :  tensor(1.00000e-03 *\n",
      "       1.8804, device='cuda:0')\n",
      "loss :  tensor(1.00000e-03 *\n",
      "       1.6540, device='cuda:0')\n",
      "loss :  tensor(1.00000e-03 *\n",
      "       2.0335, device='cuda:0')\n",
      "loss :  tensor(1.00000e-03 *\n",
      "       1.9371, device='cuda:0')\n",
      "loss :  tensor(1.00000e-03 *\n",
      "       2.9358, device='cuda:0')\n",
      "loss :  tensor(1.00000e-03 *\n",
      "       2.4945, device='cuda:0')\n",
      "loss :  tensor(1.00000e-03 *\n",
      "       2.2757, device='cuda:0')\n",
      "loss :  tensor(1.00000e-03 *\n",
      "       1.6272, device='cuda:0')\n",
      "loss :  tensor(1.00000e-03 *\n",
      "       1.5502, device='cuda:0')\n",
      "loss :  tensor(1.00000e-03 *\n",
      "       1.6327, device='cuda:0')\n",
      "loss :  tensor(1.00000e-03 *\n",
      "       1.7900, device='cuda:0')\n",
      "loss :  tensor(1.00000e-03 *\n",
      "       2.0078, device='cuda:0')\n",
      "loss :  tensor(1.00000e-03 *\n",
      "       1.3428, device='cuda:0')\n",
      "loss :  tensor(1.00000e-03 *\n",
      "       2.1689, device='cuda:0')\n",
      "loss :  tensor(1.00000e-03 *\n",
      "       1.8482, device='cuda:0')\n",
      "loss :  tensor(1.00000e-03 *\n",
      "       1.8862, device='cuda:0')\n",
      "loss :  tensor(1.00000e-03 *\n",
      "       1.8999, device='cuda:0')\n",
      "loss :  tensor(1.00000e-03 *\n",
      "       1.8201, device='cuda:0')\n",
      "loss :  tensor(1.00000e-03 *\n",
      "       1.7220, device='cuda:0')\n",
      "loss :  tensor(1.00000e-03 *\n",
      "       1.7341, device='cuda:0')\n",
      "loss :  tensor(1.00000e-03 *\n",
      "       2.3324, device='cuda:0')\n",
      "loss :  tensor(1.00000e-03 *\n",
      "       2.4512, device='cuda:0')\n",
      "loss :  tensor(1.00000e-03 *\n",
      "       2.3570, device='cuda:0')\n",
      "loss :  tensor(1.00000e-03 *\n",
      "       2.0141, device='cuda:0')\n",
      "loss :  tensor(1.00000e-03 *\n",
      "       2.2068, device='cuda:0')\n",
      "loss :  tensor(1.00000e-03 *\n",
      "       1.8648, device='cuda:0')\n",
      "loss :  tensor(1.00000e-03 *\n",
      "       1.2899, device='cuda:0')\n",
      "loss :  tensor(1.00000e-03 *\n",
      "       1.4827, device='cuda:0')\n",
      "loss :  tensor(1.00000e-03 *\n",
      "       1.9579, device='cuda:0')\n",
      "loss :  tensor(1.00000e-03 *\n",
      "       2.3165, device='cuda:0')\n",
      "loss :  tensor(1.00000e-03 *\n",
      "       1.9217, device='cuda:0')\n",
      "loss :  tensor(1.00000e-03 *\n",
      "       1.8208, device='cuda:0')\n",
      "loss :  tensor(1.00000e-03 *\n",
      "       1.8549, device='cuda:0')\n",
      "loss :  tensor(1.00000e-03 *\n",
      "       2.0134, device='cuda:0')\n",
      "loss :  tensor(1.00000e-03 *\n",
      "       2.0879, device='cuda:0')\n",
      "loss :  tensor(1.00000e-03 *\n",
      "       3.0141, device='cuda:0')\n",
      "loss :  tensor(1.00000e-03 *\n",
      "       2.3573, device='cuda:0')\n",
      "loss :  tensor(1.00000e-03 *\n",
      "       1.3988, device='cuda:0')\n",
      "loss :  tensor(1.00000e-03 *\n",
      "       2.1607, device='cuda:0')\n"
     ]
    }
   ],
   "source": [
    "#test phase\n",
    "\n",
    "encoder.load_state_dict(torch.load('./saved_data/stacked_autoencoder.ckpt'))\n",
    "for i ,[t_image,t_label]in enumerate(test_loader):\n",
    "    t_image=Variable(t_image).cuda()\n",
    "    t_out=encoder(t_image)\n",
    "    loss=loss_fun(t_out,t_image)\n",
    "    print(\"loss : \",loss)"
   ]
  },
  {
   "cell_type": "code",
   "execution_count": 8,
   "metadata": {},
   "outputs": [
    {
     "data": {
      "image/png": "[encoded data removed]",
      "text/plain": [
       "<matplotlib.figure.Figure at 0x1ff02e9f5c0>"
      ]
     },
     "metadata": {},
     "output_type": "display_data"
    },
    {
     "data": {
      "image/png": "[encoded data removed]",
      "text/plain": [
       "<matplotlib.figure.Figure at 0x1ff654beeb8>"
      ]
     },
     "metadata": {},
     "output_type": "display_data"
    },
    {
     "data": {
      "image/png": "[encoded data removed]",
      "text/plain": [
       "<matplotlib.figure.Figure at 0x1ff03047ef0>"
      ]
     },
     "metadata": {},
     "output_type": "display_data"
    },
    {
     "data": {
      "image/png": "[encoded data removed]",
      "text/plain": [
       "<matplotlib.figure.Figure at 0x1ff0309cba8>"
      ]
     },
     "metadata": {},
     "output_type": "display_data"
    },
    {
     "data": {
      "image/png": "[encoded data removed]",
      "text/plain": [
       "<matplotlib.figure.Figure at 0x1ff0f7be6d8>"
      ]
     },
     "metadata": {},
     "output_type": "display_data"
    },
    {
     "data": {
      "image/png": "[encoded data removed]",
      "text/plain": [
       "<matplotlib.figure.Figure at 0x1ff0312e5c0>"
      ]
     },
     "metadata": {},
     "output_type": "display_data"
    },
    {
     "data": {
      "image/png": "[encoded data removed]",
      "text/plain": [
       "<matplotlib.figure.Figure at 0x1ff123d7128>"
      ]
     },
     "metadata": {},
     "output_type": "display_data"
    },
    {
     "data": {
      "image/png": "[encoded data removed]",
      "text/plain": [
       "<matplotlib.figure.Figure at 0x1ff125e6630>"
      ]
     },
     "metadata": {},
     "output_type": "display_data"
    },
    {
     "data": {
      "image/png": "[encoded data removed]",
      "text/plain": [
       "<matplotlib.figure.Figure at 0x1ff1faebcf8>"
      ]
     },
     "metadata": {},
     "output_type": "display_data"
    },
    {
     "data": {
      "image/png": "[encoded data removed]",
      "text/plain": [
       "<matplotlib.figure.Figure at 0x1ff1fb466d8>"
      ]
     },
     "metadata": {},
     "output_type": "display_data"
    },
    {
     "data": {
      "image/png": "[encoded data removed]",
      "text/plain": [
       "<matplotlib.figure.Figure at 0x1ff1faf7588>"
      ]
     },
     "metadata": {},
     "output_type": "display_data"
    },
    {
     "data": {
      "image/png": "[encoded data removed]",
      "text/plain": [
       "<matplotlib.figure.Figure at 0x1ff22ced710>"
      ]
     },
     "metadata": {},
     "output_type": "display_data"
    },
    {
     "data": {
      "image/png": "[encoded data removed]",
      "text/plain": [
       "<matplotlib.figure.Figure at 0x1ff22d4b4e0>"
      ]
     },
     "metadata": {},
     "output_type": "display_data"
    },
    {
     "data": {
      "image/png": "[encoded data removed]",
      "text/plain": [
       "<matplotlib.figure.Figure at 0x1ff22d629b0>"
      ]
     },
     "metadata": {},
     "output_type": "display_data"
    },
    {
     "data": {
      "image/png": "[encoded data removed]",
      "text/plain": [
       "<matplotlib.figure.Figure at 0x1ff02d94080>"
      ]
     },
     "metadata": {},
     "output_type": "display_data"
    },
    {
     "data": {
      "image/png": "[encoded data removed]",
      "text/plain": [
       "<matplotlib.figure.Figure at 0x1ff22747940>"
      ]
     },
     "metadata": {},
     "output_type": "display_data"
    },
    {
     "data": {
      "image/png": "[encoded data removed]",
      "text/plain": [
       "<matplotlib.figure.Figure at 0x1ff22d84da0>"
      ]
     },
     "metadata": {},
     "output_type": "display_data"
    },
    {
     "data": {
      "image/png": "[encoded data removed]",
      "text/plain": [
       "<matplotlib.figure.Figure at 0x1ff2278d518>"
      ]
     },
     "metadata": {},
     "output_type": "display_data"
    },
    {
     "data": {
      "image/png": "[encoded data removed]",
      "text/plain": [
       "<matplotlib.figure.Figure at 0x1ff1faebfd0>"
      ]
     },
     "metadata": {},
     "output_type": "display_data"
    },
    {
     "data": {
      "image/png": "[encoded data removed]",
      "text/plain": [
       "<matplotlib.figure.Figure at 0x1ff0303c7b8>"
      ]
     },
     "metadata": {},
     "output_type": "display_data"
    }
   ],
   "source": [
    "for i in range(10):\n",
    "    input_image=t_image[i].cpu()\n",
    "    output_image=t_out[i].cpu()\n",
    "    input_image=input_image.data.numpy()\n",
    "    output_image=output_image.data.numpy()\n",
    "    plt.imshow(input_image[0],cmap='gray')\n",
    "    plt.show()\n",
    "    plt.imshow(output_image[0],cmap='gray')\n",
    "    plt.show()\n"
   ]
  },
  {
   "cell_type": "code",
   "execution_count": null,
   "metadata": {},
   "outputs": [],
   "source": []
  }
 ],
 "metadata": {
  "kernelspec": {
   "display_name": "Python 3",
   "language": "python",
   "name": "python3"
  },
  "language_info": {
   "codemirror_mode": {
    "name": "ipython",
    "version": 3
   },
   "file_extension": ".py",
   "mimetype": "text/x-python",
   "name": "python",
   "nbconvert_exporter": "python",
   "pygments_lexer": "ipython3",
   "version": "3.6.4"
  }
 },
 "nbformat": 4,
 "nbformat_minor": 2
}
