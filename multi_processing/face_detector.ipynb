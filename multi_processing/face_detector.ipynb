{
 "cells": [
  {
   "cell_type": "code",
   "execution_count": 1,
   "metadata": {},
   "outputs": [],
   "source": [
    "import numpy as np\n",
    "import cv2\n",
    "import matplotlib.pyplot as plt\n",
    "import csv\n",
    "import multiprocessing as mp\n",
    "import func\n",
    "import time"
   ]
  },
  {
   "cell_type": "code",
   "execution_count": 2,
   "metadata": {},
   "outputs": [],
   "source": []
  },
  {
   "cell_type": "code",
   "execution_count": 3,
   "metadata": {},
   "outputs": [
    {
     "name": "stderr",
     "output_type": "stream",
     "text": [
      "C:\\Users\\nhs\\Anaconda3\\lib\\site-packages\\ipykernel_launcher.py:9: DeprecationWarning: elementwise == comparison failed; this will raise an error in the future.\n",
      "  if __name__ == '__main__':\n"
     ]
    },
    {
     "name": "stdout",
     "output_type": "stream",
     "text": [
      "finished! 488 seconds--\n"
     ]
    }
   ],
   "source": [
    "face_cascade = cv2.CascadeClassifier('./haarcascade_frontalface_default.xml')\n",
    "f = open('D:/emotion_dataset/mmidataset/VideoWithImageLabels/image_dataset/labels.csv', 'r', encoding='utf-8')\n",
    "rdr = csv.reader(f)\n",
    "start_time=time.time()\n",
    "for image in rdr:\n",
    "    image_file='D:/emotion_dataset/mmidataset/VideoWithImageLabels/image_dataset/'+image[0]\n",
    "    img = cv2.imread(image_file,cv2.IMREAD_COLOR)\n",
    "    gray = cv2.cvtColor(img, cv2.COLOR_BGR2GRAY)\n",
    "    faces = face_cascade.detectMultiScale(gray, 1.3, 5)\n",
    "    if(faces ==[]):\n",
    "        print(image,\"false\")\n",
    "    else:\n",
    "        print(image, faces)\n",
    "print(\"finished! %d seconds--\"%(time.time()-start_time))\n",
    "f.close()\n",
    "    \n",
    "# img=cv2.cvtColor(img, cv2.COLOR_BGR2RGB) \n",
    "# for (x,y,w,h) in faces:\n",
    "#     cv2.rectangle(img,(x,y),(x+w,y+h),(255,0,0),2)\n",
    "#     roi_gray = gray[y:y+h, x:x+w]\n",
    "#     roi_color = img[y:y+h, x:x+w]\n",
    "# plt.imshow(img)\n",
    "# plt.show()"
   ]
  },
  {
   "cell_type": "code",
   "execution_count": 3,
   "metadata": {},
   "outputs": [
    {
     "name": "stdout",
     "output_type": "stream",
     "text": [
      "finished! 329 seconds--\n"
     ]
    }
   ],
   "source": [
    "#multiprocessing\n",
    "f = open('D:/emotion_dataset/mmidataset/VideoWithImageLabels/image_dataset/labels.csv', 'r', encoding='utf-8')\n",
    "rdr = csv.reader(f)\n",
    "image_file=[]\n",
    "for image in rdr:\n",
    "    image_file.append('D:/emotion_dataset/mmidataset/VideoWithImageLabels/image_dataset/'+image[0])\n",
    "f.close()\n",
    "start_time=time.time()\n",
    "\n",
    "pool = mp.Pool(processes=6)\n",
    "pool.map(func.face_detector,image_file)\n",
    "pool.close()\n",
    "pool.join()\n",
    "print(\"finished! %d seconds--\"%(time.time()-start_time))"
   ]
  },
  {
   "cell_type": "code",
   "execution_count": null,
   "metadata": {},
   "outputs": [],
   "source": []
  }
 ],
 "metadata": {
  "kernelspec": {
   "display_name": "Python 3",
   "language": "python",
   "name": "python3"
  },
  "language_info": {
   "codemirror_mode": {
    "name": "ipython",
    "version": 3
   },
   "file_extension": ".py",
   "mimetype": "text/x-python",
   "name": "python",
   "nbconvert_exporter": "python",
   "pygments_lexer": "ipython3",
   "version": "3.6.5"
  }
 },
 "nbformat": 4,
 "nbformat_minor": 2
}
