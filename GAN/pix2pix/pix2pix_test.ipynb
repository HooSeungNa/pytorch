{
 "cells": [
  {
   "cell_type": "code",
   "execution_count": 1,
   "metadata": {},
   "outputs": [],
   "source": [
    "import os\n",
    "import torch\n",
    "import torchvision\n",
    "import torch.nn as nn\n",
    "from torchvision import transforms\n",
    "from torchvision.utils import save_image\n",
    "from torch.autograd import Variable\n",
    "from torch.utils.data import Dataset,DataLoader\n",
    "from datasets import *\n",
    "from Pix2pix_model import *"
   ]
  },
  {
   "cell_type": "code",
   "execution_count": 2,
   "metadata": {},
   "outputs": [
    {
     "name": "stdout",
     "output_type": "stream",
     "text": [
      "folders not created!\n"
     ]
    }
   ],
   "source": [
    "sample_dir=\"../samples/pix2pix_facades/test/\"\n",
    "if not os.path.exists(sample_dir):\n",
    "    os.makedirs(sample_dir)\n",
    "    print(\"folders created!\")\n",
    "else:\n",
    "    print(\"folders not created!\")"
   ]
  },
  {
   "cell_type": "code",
   "execution_count": 3,
   "metadata": {},
   "outputs": [],
   "source": [
    "batch_size=32\n",
    "n_epochs=200\n",
    "image_width=256\n",
    "learning_rate=2e-4"
   ]
  },
  {
   "cell_type": "code",
   "execution_count": 4,
   "metadata": {},
   "outputs": [],
   "source": [
    "#test \n",
    "test_data=ImageDataset(root='D:/pix2pix_dataset/facades/test/',\n",
    "                        transform=transforms.ToTensor())\n",
    "test_loader=torch.utils.data.DataLoader(test_data,\n",
    "                                        batch_size=batch_size,\n",
    "                                        shuffle=True)"
   ]
  },
  {
   "cell_type": "code",
   "execution_count": 5,
   "metadata": {
    "scrolled": false
   },
   "outputs": [],
   "source": [
    "generator_model=Generator().cuda()\n",
    "generator_model.load_state_dict(torch.load('../saved_data/pix2pix_facades/G_pix2pix_201.ckpt'))\n",
    "\n"
   ]
  },
  {
   "cell_type": "code",
   "execution_count": 6,
   "metadata": {
    "scrolled": true
   },
   "outputs": [
    {
     "name": "stderr",
     "output_type": "stream",
     "text": [
      "C:\\Users\\nhs\\Anaconda3\\lib\\site-packages\\torch\\nn\\modules\\upsampling.py:122: UserWarning: nn.Upsampling is deprecated. Use nn.functional.interpolate instead.\n",
      "  warnings.warn(\"nn.Upsampling is deprecated. Use nn.functional.interpolate instead.\")\n"
     ]
    },
    {
     "name": "stdout",
     "output_type": "stream",
     "text": [
      "Test finished!\n"
     ]
    }
   ],
   "source": [
    "total_step=len(test_loader)\n",
    "for i, image in enumerate(test_loader):\n",
    "    image_num=int(image['B'].shape[0])\n",
    "    x_image=image['B']\n",
    "    x_image=Variable(x_image).cuda()\n",
    "    gen_out=generator_model.forward(x_image)\n",
    "    save_image(gen_out,os.path.join(\n",
    "        sample_dir,'test_images-{}.png'.format(i+1)))\n",
    "print(\"Test finished!\")\n"
   ]
  },
  {
   "cell_type": "code",
   "execution_count": null,
   "metadata": {},
   "outputs": [],
   "source": []
  }
 ],
 "metadata": {
  "kernelspec": {
   "display_name": "Python 3",
   "language": "python",
   "name": "python3"
  },
  "language_info": {
   "codemirror_mode": {
    "name": "ipython",
    "version": 3
   },
   "file_extension": ".py",
   "mimetype": "text/x-python",
   "name": "python",
   "nbconvert_exporter": "python",
   "pygments_lexer": "ipython3",
   "version": "3.6.5"
  }
 },
 "nbformat": 4,
 "nbformat_minor": 2
}
