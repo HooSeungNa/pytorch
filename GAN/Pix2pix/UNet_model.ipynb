{
 "cells": [
  {
   "cell_type": "code",
   "execution_count": 1,
   "metadata": {},
   "outputs": [],
   "source": [
    "import os\n",
    "import torch\n",
    "import torchvision\n",
    "import torch.nn as nn\n",
    "from torchvision import transforms\n",
    "from torchvision.utils import save_image\n",
    "from torch.autograd import Variable\n",
    "import time"
   ]
  },
  {
   "cell_type": "code",
   "execution_count": 2,
   "metadata": {},
   "outputs": [],
   "source": [
    "batch_size = 100\n",
    "transform=transforms.Compose([\n",
    "    transforms.Resize((80,80)),\n",
    "    transforms.ToTensor()])\n",
    "train_dataset = torchvision.datasets.MNIST(root='../../data',\n",
    "                                           train=True,\n",
    "                                           transform=transform)\n",
    "train_loader = torch.utils.data.DataLoader(dataset=train_dataset,\n",
    "                                           batch_size=batch_size,\n",
    "                                           shuffle=True)"
   ]
  },
  {
   "cell_type": "code",
   "execution_count": 3,
   "metadata": {},
   "outputs": [],
   "source": [
    "def weights_init_normal(m):\n",
    "    classname = m.__class__.__name__\n",
    "    if classname.find('Conv') != -1:\n",
    "        torch.nn.init.normal_(m.weight.data, 0.0, 0.02)\n",
    "    elif classname.find('BatchNorm2d') != -1:\n",
    "        torch.nn.init.normal_(m.weight.data, 1.0, 0.02)\n",
    "        torch.nn.init.constant_(m.bias.data, 0.0)\n",
    "\n",
    "\n",
    "class UNetDown(nn.Module):\n",
    "    def __init__(self, in_size, out_size, normalize=True, dropout=0.0):\n",
    "        super(UNetDown, self).__init__()\n",
    "        layers = [nn.Conv2d(in_size, out_size, kernel_size=3, stride=1,\n",
    "                            padding=0, bias=False),\n",
    "                  nn.ReLU(),\n",
    "                  nn.Conv2d(out_size, out_size, kernel_size=3, stride=1,\n",
    "                            padding=0, bias=False)]\n",
    "        if normalize:\n",
    "            layers.append(nn.InstanceNorm2d(out_size))\n",
    "        layers.append(nn.ReLU())\n",
    "        if dropout:\n",
    "            layers.append(nn.Dropout(dropout))\n",
    "        self.model = nn.Sequential(*layers)\n",
    "\n",
    "    def forward(self, x):\n",
    "        return self.model(x)\n",
    "\n",
    "#up phase convtranspose2d\n",
    "class UNetUp(nn.Module):\n",
    "    def __init__(self, in_size, out_size, dropout=0.0):\n",
    "        super(UNetUp, self).__init__()\n",
    "        layers = [nn.ConvTranspose2d(in_size, out_size, 4, 2, 1, bias=False)]\n",
    "\n",
    "        self.model = nn.Sequential(*layers)\n",
    "\n",
    "    def forward(self, x):\n",
    "        return self.model(x)\n",
    "\n",
    "\n",
    "class UnetUpConv(nn.Module):\n",
    "    def __init__(self, in_size, out_size, normalize=True, dropout=0.0):\n",
    "        super(UnetUpConv, self).__init__()\n",
    "        layers = [nn.Conv2d(in_size, out_size, kernel_size=3,\n",
    "                            stride=1, padding=0, bias=False),\n",
    "                  nn.ReLU(),\n",
    "                  nn.Conv2d(out_size, out_size, kernel_size=3,\n",
    "                            stride=1, padding=0, bias=False)\n",
    "                  ]\n",
    "        if normalize:\n",
    "            layers.append(nn.InstanceNorm2d(out_size))\n",
    "        layers.append(nn.ReLU())\n",
    "        if dropout:\n",
    "            layers.append(nn.Dropout(dropout))\n",
    "\n",
    "        self.model = nn.Sequential(*layers)\n",
    "\n",
    "    def forward(self, x):\n",
    "        return self.model(x)"
   ]
  },
  {
   "cell_type": "code",
   "execution_count": 4,
   "metadata": {},
   "outputs": [],
   "source": [
    "def center_crop_concat(input_x, input_y):\n",
    "    width = input_x.shape[2]-input_y.shape[2]\n",
    "    start_point = int(width/2)\n",
    "    x_crop = input_x[:, :, start_point:start_point +\n",
    "                     input_y.shape[2], start_point:start_point+input_y.shape[2]]\n",
    "    out = torch.cat((x_crop, input_y), 1)\n",
    "    return out\n"
   ]
  },
  {
   "cell_type": "code",
   "execution_count": 18,
   "metadata": {
    "scrolled": false
   },
   "outputs": [],
   "source": [
    "\n",
    "class Unet_model(nn.Module):\n",
    "    def __init__(self,in_channel=1):\n",
    "        super(Unet_model,self).__init__()\n",
    "        self.down1=UNetDown(in_channel,64)\n",
    "        self.down2=UNetDown(64,128)\n",
    "        self.down3=UNetDown(128,256)\n",
    "        \n",
    "        self.max_pool=nn.MaxPool2d(kernel_size=2,stride=2)\n",
    "        \n",
    "        self.up1=UNetUp(256,128)\n",
    "        self.up1_cnn=UnetUpConv(256,128)\n",
    "        \n",
    "        self.up2=UNetUp(128,64)\n",
    "        self.up2_cnn=UnetUpConv(128,64)\n",
    "        \n",
    "        self.up3=UNetUp(64,32)\n",
    "        self.up3_cnn=UnetUpConv(64,32)\n",
    "        \n",
    "        self.final=UnetUpConv(64,1)\n",
    "        \n",
    "    def forward(self,x):\n",
    "        o1=self.down1(x)\n",
    "        o1_max=self.max_pool(o1)\n",
    "        o2=self.down2(o1_max)\n",
    "        o2_max=self.max_pool(o2)\n",
    "        o3=self.down3(o2_max)\n",
    "        \n",
    "        u1=self.up1(o3) # 128 특징 가지고 있다.\n",
    "        u1_concat=center_crop_concat(o2,u1)\n",
    "        u1_conv=self.up1_cnn(u1_concat)\n",
    "        \n",
    "        u2=self.up2(u1_conv)\n",
    "        u2_concat=center_crop_concat(o1,u2)\n",
    "        u2_conv=self.up2_cnn(u2_concat)\n",
    "        \n",
    "        output=self.final(u2_conv)\n",
    "        \n",
    "#         print(\"************Unet down model************\")\n",
    "#         print(\"layer1 : \",o1.shape)\n",
    "#         print(\"layer2 : \",o2.shape)\n",
    "#         print(\"layer3 : \",o3.shape)   \n",
    "#         print(\"************Unet up model************\")\n",
    "#         print(\"layer2 : \",u1_conv.shape)\n",
    "#         print(\"layer1 : \",u2_conv.shape)\n",
    "#         print(\"final : \",output.shape)\n",
    "        return output\n",
    "        \n"
   ]
  },
  {
   "cell_type": "code",
   "execution_count": 19,
   "metadata": {
    "scrolled": true
   },
   "outputs": [
    {
     "name": "stdout",
     "output_type": "stream",
     "text": [
      "torch.Size([100, 1, 80, 80])\n",
      "torch.Size([100, 1, 36, 36])\n"
     ]
    }
   ],
   "source": [
    "model=Unet_model().cuda()\n",
    "\n",
    "for i ,[images,_]in enumerate(train_loader):\n",
    "    img=Variable(images).cuda()\n",
    "    print(img.shape)\n",
    "    \n",
    "    im=model.forward(img)\n",
    "    print(im.shape)\n",
    "    if i==0:\n",
    "        break"
   ]
  },
  {
   "cell_type": "code",
   "execution_count": 26,
   "metadata": {},
   "outputs": [],
   "source": [
    "save_image(im,'Unet_image.png')"
   ]
  },
  {
   "cell_type": "code",
   "execution_count": null,
   "metadata": {},
   "outputs": [],
   "source": []
  }
 ],
 "metadata": {
  "kernelspec": {
   "display_name": "Python 3",
   "language": "python",
   "name": "python3"
  },
  "language_info": {
   "codemirror_mode": {
    "name": "ipython",
    "version": 3
   },
   "file_extension": ".py",
   "mimetype": "text/x-python",
   "name": "python",
   "nbconvert_exporter": "python",
   "pygments_lexer": "ipython3",
   "version": "3.6.4"
  },
  "varInspector": {
   "cols": {
    "lenName": 16,
    "lenType": 16,
    "lenVar": 40
   },
   "kernels_config": {
    "python": {
     "delete_cmd_postfix": "",
     "delete_cmd_prefix": "del ",
     "library": "var_list.py",
     "varRefreshCmd": "print(var_dic_list())"
    },
    "r": {
     "delete_cmd_postfix": ") ",
     "delete_cmd_prefix": "rm(",
     "library": "var_list.r",
     "varRefreshCmd": "cat(var_dic_list()) "
    }
   },
   "types_to_exclude": [
    "module",
    "function",
    "builtin_function_or_method",
    "instance",
    "_Feature"
   ],
   "window_display": false
  }
 },
 "nbformat": 4,
 "nbformat_minor": 2
}
