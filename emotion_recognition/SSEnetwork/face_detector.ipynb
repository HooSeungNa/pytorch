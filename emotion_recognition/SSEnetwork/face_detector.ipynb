{
 "cells": [
  {
   "cell_type": "code",
   "execution_count": 1,
   "metadata": {},
   "outputs": [],
   "source": [
    "import numpy as np\n",
    "import cv2\n",
    "import matplotlib.pyplot as plt\n",
    "import csv\n",
    "import multiprocessing as mp\n",
    "import func\n",
    "import time"
   ]
  },
  {
   "cell_type": "code",
   "execution_count": 2,
   "metadata": {
    "scrolled": true
   },
   "outputs": [
    {
     "name": "stdout",
     "output_type": "stream",
     "text": [
      "finished! 419 seconds--\n"
     ]
    }
   ],
   "source": [
    "#multiprocessing 을 사용한 얼굴 저장\n",
    "f = open('D:/emotion_dataset/mmidataset/VideoWithImageLabels/image_dataset/labels.csv', 'r', encoding='utf-8')\n",
    "rdr = csv.reader(f)\n",
    "image_file=[]\n",
    "\n",
    "for image in rdr:\n",
    "    image_file.append(image[0])\n",
    "f.close()\n",
    "start_time=time.time()\n",
    "\n",
    "pool = mp.Pool(processes=4)\n",
    "pool.map(func.face_detector,image_file)\n",
    "pool.close()\n",
    "pool.join()\n",
    "print(\"finished! %d seconds--\"%(time.time()-start_time))"
   ]
  },
  {
   "cell_type": "code",
   "execution_count": null,
   "metadata": {},
   "outputs": [],
   "source": []
  }
 ],
 "metadata": {
  "kernelspec": {
   "display_name": "Python 3",
   "language": "python",
   "name": "python3"
  },
  "language_info": {
   "codemirror_mode": {
    "name": "ipython",
    "version": 3
   },
   "file_extension": ".py",
   "mimetype": "text/x-python",
   "name": "python",
   "nbconvert_exporter": "python",
   "pygments_lexer": "ipython3",
   "version": "3.6.5"
  }
 },
 "nbformat": 4,
 "nbformat_minor": 2
}
