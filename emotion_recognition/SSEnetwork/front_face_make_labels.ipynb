{
 "cells": [
  {
   "cell_type": "code",
   "execution_count": 10,
   "metadata": {},
   "outputs": [],
   "source": [
    "import csv\n",
    "import os"
   ]
  },
  {
   "cell_type": "code",
   "execution_count": 11,
   "metadata": {},
   "outputs": [],
   "source": [
    "#image directory\n",
    "train_dirname=\"D:/emotion_dataset/mmidataset/VideoWithImageLabels/face_detected/train/\"\n",
    "test_dirname=\"D:/emotion_dataset/mmidataset/VideoWithImageLabels/face_detected/test/\"\n",
    "\n",
    "\n"
   ]
  },
  {
   "cell_type": "code",
   "execution_count": 12,
   "metadata": {},
   "outputs": [
    {
     "name": "stdout",
     "output_type": "stream",
     "text": [
      "how many images in file :  11406\n",
      "how many images in file :  6890\n"
     ]
    }
   ],
   "source": [
    "train_filenames = os.listdir(train_dirname)\n",
    "print(\"how many images in file : \",len(train_filenames))\n",
    "test_filenames = os.listdir(test_dirname)\n",
    "print(\"how many images in file : \",len(test_filenames))\n",
    "\n"
   ]
  },
  {
   "cell_type": "code",
   "execution_count": 21,
   "metadata": {},
   "outputs": [],
   "source": [
    "\n",
    "f = open('D:/emotion_dataset/mmidataset/VideoWithImageLabels/face_detected/labels.csv'\n",
    "         , 'r', encoding='utf-8')\n",
    "rdr = csv.reader(f)\n",
    "before_image=[]\n",
    "before_label=[]\n",
    "for line in rdr:\n",
    "    before_image.append(line[0])\n",
    "    before_label.append(line[1])\n",
    "    \n",
    "f.close()    "
   ]
  },
  {
   "cell_type": "code",
   "execution_count": 23,
   "metadata": {},
   "outputs": [],
   "source": [
    "\n",
    "f = open('D:/emotion_dataset/mmidataset/VideoWithImageLabels/image_dataset/labels.csv'\n",
    "         , 'r', encoding='utf-8')\n",
    "rdr = csv.reader(f)\n",
    "image_name=[]\n",
    "image_label=[]\n",
    "for line in rdr:\n",
    "    image_name.append(line[0])\n",
    "    image_label.append(line[1])\n",
    "    \n",
    "f.close()    "
   ]
  },
  {
   "cell_type": "code",
   "execution_count": 24,
   "metadata": {},
   "outputs": [
    {
     "name": "stdout",
     "output_type": "stream",
     "text": [
      "image0_frame1.jpg\n"
     ]
    }
   ],
   "source": [
    "print(image_name[0])"
   ]
  },
  {
   "cell_type": "code",
   "execution_count": 35,
   "metadata": {},
   "outputs": [
    {
     "name": "stdout",
     "output_type": "stream",
     "text": [
      "D:/emotion_dataset/mmidataset/VideoWithImageLabels/face_detected/train/image0_frame1.jpg\n",
      "65\n"
     ]
    }
   ],
   "source": [
    "#이미지 앞의 디렉토리의 위치를 찾는다.\n",
    "indexNo = before_image[0].find(image_name[0])\n",
    "print(before_image[0][:indexNo]+'train/'+image_name[0])\n",
    "print(indexNo)"
   ]
  },
  {
   "cell_type": "code",
   "execution_count": 43,
   "metadata": {},
   "outputs": [],
   "source": [
    "#합쳐져 있는 dataset 을 train(70%), test(30%)로 분리\n",
    "#이미지가 존재하는것과 존재하지 않는것을확인하여 존재하는것만 csv 파일로 저장\n",
    "f1 = open('D:/emotion_dataset/mmidataset/VideoWithImageLabels/face_detected/train/labels.csv', 'w', encoding='utf-8', newline='')\n",
    "wr1 = csv.writer(f1)\n",
    "f2 = open('D:/emotion_dataset/mmidataset/VideoWithImageLabels/face_detected/test/labels.csv', 'w', encoding='utf-8', newline='')\n",
    "wr2 = csv.writer(f2)\n",
    "\n",
    "for i in range(len(before_image)):\n",
    "    if(i<12893):\n",
    "        if(os.path.exists(before_image[i][:indexNo]+'train/'+image_name[i])):\n",
    "            wr1.writerow([before_image[i][:indexNo]+'train/'+image_name[i],before_label[i]])       \n",
    "    else:\n",
    "        if(os.path.exists(before_image[i][:indexNo]+'test/'+image_name[i])):\n",
    "            wr2.writerow([before_image[i][:indexNo]+'test/'+image_name[i],before_label[i]])\n",
    "f1.close()\n",
    "f2.close()"
   ]
  },
  {
   "cell_type": "code",
   "execution_count": 45,
   "metadata": {},
   "outputs": [],
   "source": [
    "#이미지가 존재하는것만 있는지 확인하는 과정\n",
    "f = open('D:/emotion_dataset/mmidataset/VideoWithImageLabels/face_detected/test/labels.csv'\n",
    "         , 'r', encoding='utf-8')\n",
    "rdr = csv.reader(f)\n",
    "for line in rdr:\n",
    "    if(os.path.exists(line[0])==False):\n",
    "        print(line[0])\n",
    "    \n",
    "f.close()    "
   ]
  }
 ],
 "metadata": {
  "kernelspec": {
   "display_name": "Python 3",
   "language": "python",
   "name": "python3"
  },
  "language_info": {
   "codemirror_mode": {
    "name": "ipython",
    "version": 3
   },
   "file_extension": ".py",
   "mimetype": "text/x-python",
   "name": "python",
   "nbconvert_exporter": "python",
   "pygments_lexer": "ipython3",
   "version": "3.6.5"
  }
 },
 "nbformat": 4,
 "nbformat_minor": 2
}
